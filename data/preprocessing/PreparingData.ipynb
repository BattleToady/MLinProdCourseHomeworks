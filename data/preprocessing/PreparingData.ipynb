{
 "cells": [
  {
   "cell_type": "code",
   "execution_count": 1,
   "id": "c73c1e44-0631-455f-a237-64d799587cff",
   "metadata": {},
   "outputs": [],
   "source": [
    "import pandas as pd"
   ]
  },
  {
   "cell_type": "code",
   "execution_count": 2,
   "id": "2716b459-aa0f-4be1-8916-bc0ee06d6b09",
   "metadata": {},
   "outputs": [],
   "source": [
    "df17 = pd.read_csv('df17.csv')\n",
    "df18 = pd.read_csv('df18.csv')\n",
    "df19 = pd.read_csv('df19.csv')\n",
    "df20 = pd.read_csv('df20.csv')"
   ]
  },
  {
   "cell_type": "code",
   "execution_count": 3,
   "id": "6f39f95d-39f0-42af-aee1-33f58b484594",
   "metadata": {},
   "outputs": [],
   "source": [
    "df17['year'] = 2017\n",
    "df18['year'] = 2018\n",
    "df19['year'] = 2019\n",
    "df20['year'] = 2020"
   ]
  },
  {
   "cell_type": "code",
   "execution_count": 4,
   "id": "f76b9e5b-da9d-4caf-9a03-792a6164dfd3",
   "metadata": {},
   "outputs": [
    {
     "data": {
      "text/html": [
       "<div>\n",
       "<style scoped>\n",
       "    .dataframe tbody tr th:only-of-type {\n",
       "        vertical-align: middle;\n",
       "    }\n",
       "\n",
       "    .dataframe tbody tr th {\n",
       "        vertical-align: top;\n",
       "    }\n",
       "\n",
       "    .dataframe thead th {\n",
       "        text-align: right;\n",
       "    }\n",
       "</style>\n",
       "<table border=\"1\" class=\"dataframe\">\n",
       "  <thead>\n",
       "    <tr style=\"text-align: right;\">\n",
       "      <th></th>\n",
       "      <th>Unnamed: 0</th>\n",
       "      <th>student_id</th>\n",
       "      <th>priority</th>\n",
       "      <th>mark</th>\n",
       "      <th>status</th>\n",
       "      <th>kvota</th>\n",
       "      <th>year</th>\n",
       "      <th>specialty</th>\n",
       "      <th>university</th>\n",
       "      <th>placesCount</th>\n",
       "      <th>...</th>\n",
       "      <th>contractCount</th>\n",
       "      <th>vstup</th>\n",
       "      <th>budget_mark_mean</th>\n",
       "      <th>mark_mean</th>\n",
       "      <th>abit_count</th>\n",
       "      <th>mark_max</th>\n",
       "      <th>mark_min</th>\n",
       "      <th>budget_mark_max</th>\n",
       "      <th>budget_mark_min</th>\n",
       "      <th>position</th>\n",
       "    </tr>\n",
       "  </thead>\n",
       "  <tbody>\n",
       "    <tr>\n",
       "      <th>0</th>\n",
       "      <td>0</td>\n",
       "      <td>1</td>\n",
       "      <td>1</td>\n",
       "      <td>200.0</td>\n",
       "      <td>До наказу (бюджет)</td>\n",
       "      <td>NaN</td>\n",
       "      <td>2017</td>\n",
       "      <td>Хімія</td>\n",
       "      <td>Харківський національний університет імені В.Н...</td>\n",
       "      <td>100</td>\n",
       "      <td>...</td>\n",
       "      <td>49</td>\n",
       "      <td>True</td>\n",
       "      <td>184.054083</td>\n",
       "      <td>175.373299</td>\n",
       "      <td>214</td>\n",
       "      <td>200.0</td>\n",
       "      <td>136.249</td>\n",
       "      <td>200.0</td>\n",
       "      <td>164.888</td>\n",
       "      <td>1</td>\n",
       "    </tr>\n",
       "    <tr>\n",
       "      <th>1</th>\n",
       "      <td>1</td>\n",
       "      <td>2</td>\n",
       "      <td>1</td>\n",
       "      <td>200.0</td>\n",
       "      <td>До наказу (бюджет)</td>\n",
       "      <td>NaN</td>\n",
       "      <td>2017</td>\n",
       "      <td>Хімія</td>\n",
       "      <td>Харківський національний університет імені В.Н...</td>\n",
       "      <td>100</td>\n",
       "      <td>...</td>\n",
       "      <td>49</td>\n",
       "      <td>True</td>\n",
       "      <td>184.054083</td>\n",
       "      <td>175.373299</td>\n",
       "      <td>214</td>\n",
       "      <td>200.0</td>\n",
       "      <td>136.249</td>\n",
       "      <td>200.0</td>\n",
       "      <td>164.888</td>\n",
       "      <td>2</td>\n",
       "    </tr>\n",
       "    <tr>\n",
       "      <th>2</th>\n",
       "      <td>2</td>\n",
       "      <td>3</td>\n",
       "      <td>3</td>\n",
       "      <td>200.0</td>\n",
       "      <td>Допущено</td>\n",
       "      <td>NaN</td>\n",
       "      <td>2017</td>\n",
       "      <td>Хімія</td>\n",
       "      <td>Харківський національний університет імені В.Н...</td>\n",
       "      <td>100</td>\n",
       "      <td>...</td>\n",
       "      <td>49</td>\n",
       "      <td>False</td>\n",
       "      <td>184.054083</td>\n",
       "      <td>175.373299</td>\n",
       "      <td>214</td>\n",
       "      <td>200.0</td>\n",
       "      <td>136.249</td>\n",
       "      <td>200.0</td>\n",
       "      <td>164.888</td>\n",
       "      <td>3</td>\n",
       "    </tr>\n",
       "    <tr>\n",
       "      <th>3</th>\n",
       "      <td>3</td>\n",
       "      <td>4</td>\n",
       "      <td>1</td>\n",
       "      <td>200.0</td>\n",
       "      <td>До наказу (бюджет)</td>\n",
       "      <td>NaN</td>\n",
       "      <td>2017</td>\n",
       "      <td>Хімія</td>\n",
       "      <td>Харківський національний університет імені В.Н...</td>\n",
       "      <td>100</td>\n",
       "      <td>...</td>\n",
       "      <td>49</td>\n",
       "      <td>True</td>\n",
       "      <td>184.054083</td>\n",
       "      <td>175.373299</td>\n",
       "      <td>214</td>\n",
       "      <td>200.0</td>\n",
       "      <td>136.249</td>\n",
       "      <td>200.0</td>\n",
       "      <td>164.888</td>\n",
       "      <td>4</td>\n",
       "    </tr>\n",
       "    <tr>\n",
       "      <th>4</th>\n",
       "      <td>4</td>\n",
       "      <td>5</td>\n",
       "      <td>3</td>\n",
       "      <td>200.0</td>\n",
       "      <td>Допущено</td>\n",
       "      <td>NaN</td>\n",
       "      <td>2017</td>\n",
       "      <td>Хімія</td>\n",
       "      <td>Харківський національний університет імені В.Н...</td>\n",
       "      <td>100</td>\n",
       "      <td>...</td>\n",
       "      <td>49</td>\n",
       "      <td>False</td>\n",
       "      <td>184.054083</td>\n",
       "      <td>175.373299</td>\n",
       "      <td>214</td>\n",
       "      <td>200.0</td>\n",
       "      <td>136.249</td>\n",
       "      <td>200.0</td>\n",
       "      <td>164.888</td>\n",
       "      <td>5</td>\n",
       "    </tr>\n",
       "  </tbody>\n",
       "</table>\n",
       "<p>5 rows × 21 columns</p>\n",
       "</div>"
      ],
      "text/plain": [
       "   Unnamed: 0  student_id priority   mark              status  kvota  year  \\\n",
       "0           0           1        1  200.0  До наказу (бюджет)    NaN  2017   \n",
       "1           1           2        1  200.0  До наказу (бюджет)    NaN  2017   \n",
       "2           2           3        3  200.0            Допущено    NaN  2017   \n",
       "3           3           4        1  200.0  До наказу (бюджет)    NaN  2017   \n",
       "4           4           5        3  200.0            Допущено    NaN  2017   \n",
       "\n",
       "  specialty                                         university  placesCount  \\\n",
       "0     Хімія  Харківський національний університет імені В.Н...          100   \n",
       "1     Хімія  Харківський національний університет імені В.Н...          100   \n",
       "2     Хімія  Харківський національний університет імені В.Н...          100   \n",
       "3     Хімія  Харківський національний університет імені В.Н...          100   \n",
       "4     Хімія  Харківський національний університет імені В.Н...          100   \n",
       "\n",
       "   ...  contractCount  vstup  budget_mark_mean   mark_mean  abit_count  \\\n",
       "0  ...             49   True        184.054083  175.373299         214   \n",
       "1  ...             49   True        184.054083  175.373299         214   \n",
       "2  ...             49  False        184.054083  175.373299         214   \n",
       "3  ...             49   True        184.054083  175.373299         214   \n",
       "4  ...             49  False        184.054083  175.373299         214   \n",
       "\n",
       "   mark_max  mark_min  budget_mark_max  budget_mark_min  position  \n",
       "0     200.0   136.249            200.0          164.888         1  \n",
       "1     200.0   136.249            200.0          164.888         2  \n",
       "2     200.0   136.249            200.0          164.888         3  \n",
       "3     200.0   136.249            200.0          164.888         4  \n",
       "4     200.0   136.249            200.0          164.888         5  \n",
       "\n",
       "[5 rows x 21 columns]"
      ]
     },
     "execution_count": 4,
     "metadata": {},
     "output_type": "execute_result"
    }
   ],
   "source": [
    "df17.head()"
   ]
  },
  {
   "cell_type": "code",
   "execution_count": 6,
   "id": "0aede44a-646a-4307-8aac-b25b4e7cff56",
   "metadata": {},
   "outputs": [
    {
     "data": {
      "text/plain": [
       "Index(['Unnamed: 0', 'student_id', 'priority', 'mark', 'status', 'kvota',\n",
       "       'year', 'specialty', 'university', 'placesCount', 'budgetCount',\n",
       "       'contractCount', 'vstup', 'budget_mark_mean', 'mark_mean', 'abit_count',\n",
       "       'mark_max', 'mark_min', 'budget_mark_max', 'budget_mark_min',\n",
       "       'position'],\n",
       "      dtype='object')"
      ]
     },
     "execution_count": 6,
     "metadata": {},
     "output_type": "execute_result"
    }
   ],
   "source": [
    "df17.columns"
   ]
  },
  {
   "cell_type": "code",
   "execution_count": 10,
   "id": "92b8ed2a-f0ed-4823-a3cd-dda6f20bbed7",
   "metadata": {},
   "outputs": [
    {
     "data": {
      "text/plain": [
       "5"
      ]
     },
     "execution_count": 10,
     "metadata": {},
     "output_type": "execute_result"
    }
   ],
   "source": [
    "df17.university.nunique()"
   ]
  },
  {
   "cell_type": "code",
   "execution_count": 11,
   "id": "72aea3cb-2d9f-4e24-a9db-47ac64d56da6",
   "metadata": {},
   "outputs": [
    {
     "data": {
      "text/plain": [
       "68"
      ]
     },
     "execution_count": 11,
     "metadata": {},
     "output_type": "execute_result"
    }
   ],
   "source": [
    "df17.specialty.nunique()"
   ]
  },
  {
   "cell_type": "code",
   "execution_count": 12,
   "id": "a78b5088-1cd8-4c8a-830c-158ce2a94d5b",
   "metadata": {},
   "outputs": [
    {
     "data": {
      "text/plain": [
       "5"
      ]
     },
     "execution_count": 12,
     "metadata": {},
     "output_type": "execute_result"
    }
   ],
   "source": [
    "df18.university.nunique()"
   ]
  },
  {
   "cell_type": "code",
   "execution_count": 13,
   "id": "ba7f1428-0fc6-4d37-8142-b7780f37a675",
   "metadata": {},
   "outputs": [
    {
     "data": {
      "text/plain": [
       "76"
      ]
     },
     "execution_count": 13,
     "metadata": {},
     "output_type": "execute_result"
    }
   ],
   "source": [
    "df18.specialty.nunique()"
   ]
  },
  {
   "cell_type": "code",
   "execution_count": 16,
   "id": "59542a44-2bd3-4e7d-bf06-e9997c8e9919",
   "metadata": {},
   "outputs": [
    {
     "data": {
      "text/plain": [
       "array(['Хімія', 'Фінанси,банківськасправатастрахування', 'Філософія',\n",
       "       'Філологія', 'Фізикатаастрономія', 'Туризм', 'Соціологія',\n",
       "       'Соціальнаробота', 'Підприємництво,торгівлятабіржовадіяльність',\n",
       "       'Психологія', 'Прикладнафізикатананоматеріали',\n",
       "       'Прикладнаматематика', 'Право', 'Облікіоподаткування',\n",
       "       'НаукипроЗемлю', 'Мікро', 'Міжнародніекономічнівідносини',\n",
       "       'Міжнароднівідносини,суспільнікомунікаціїтарегіональністудії',\n",
       "       'Міжнароднеправо', 'Менеджмент', 'Математика', 'Маркетинг',\n",
       "       'Кібербезпека', 'Комп’ютернаінженерія', \"Комп'ютернінауки\",\n",
       "       'Економіка', 'Екологія', 'Готельно', 'Географія',\n",
       "       'Біотехнологіїтабіоінженерія', 'Біологія',\n",
       "       'Автоматизаціятакомп’ютерно', 'Історіятаархеологія',\n",
       "       'Фізичнатерапія,ерготерапія',\n",
       "       'Технологіїзахистунавколишньогосередовища', 'Теплоенергетика',\n",
       "       'Телекомунікаціїтарадіотехніка',\n",
       "       'Публічнеуправліннятаадміністрування', 'Прикладнамеханіка',\n",
       "       'Менеджментсоціокультурноїдіяльності', 'Матеріалознавство',\n",
       "       'Енергетичнемашинобудування', 'Електроніка',\n",
       "       'Електроенергетика,електротехнікатаелектромеханіка',\n",
       "       'Галузевемашинобудування', 'Хімічнітехнологіїтаінженерія',\n",
       "       'Харчовітехнології', 'Фармація,промисловафармація',\n",
       "       'Транспортнітехнології', 'Соціальнезабезпечення',\n",
       "       'Системнийаналіз', 'Музеєзнавство,пам’яткознавство',\n",
       "       'Метрологіятаінформаційно', 'Металургія', 'Геодезіятаземлеустрій',\n",
       "       'Видавництвотаполіграфія', 'Біомедичнаінженерія',\n",
       "       'Будівництвотацивільнаінженерія', 'Атомнаенергетика', 'Авіоніка',\n",
       "       'Автомобільнийтранспорт', 'Інформаційнісистемитатехнології',\n",
       "       'Інформаційна,бібліотечнатаархівнасправа',\n",
       "       'Інженеріяпрограмногозабезпечення', 'Авіаційнатаракетно',\n",
       "       'Статистика', 'Політологія', 'Культурологія'], dtype=object)"
      ]
     },
     "execution_count": 16,
     "metadata": {},
     "output_type": "execute_result"
    }
   ],
   "source": [
    "df17.specialty.unique()"
   ]
  },
  {
   "cell_type": "code",
   "execution_count": 17,
   "id": "fe2b8128-9c12-4af0-ae49-3d9bead5d9fb",
   "metadata": {},
   "outputs": [
    {
     "data": {
      "text/plain": [
       "array(['292Міжнародніекономічнівідносини',\n",
       "       '291Міжнароднівідносини,суспільнікомунікаціїтарегіональністудії',\n",
       "       '281Публічнеуправліннятаадміністрування', '242Туризм',\n",
       "       '241Готельно', '231Соціальнаробота',\n",
       "       '162Біотехнологіїтабіоінженерія', '153Мікро',\n",
       "       '151Автоматизаціятакомп’ютерно', '125Кібербезпека',\n",
       "       '123Комп’ютернаінженерія', \"122Комп'ютернінауки\",\n",
       "       '113Прикладнаматематика', '111Математика', '106Географія',\n",
       "       '105Прикладнафізикатананоматеріали', '104Фізикатаастрономія',\n",
       "       '103НаукипроЗемлю', '102Хімія', '101Екологія', '091Біологія',\n",
       "       '081Право', '076Підприємництво,торгівлятабіржовадіяльність',\n",
       "       '075Маркетинг', '073Менеджмент',\n",
       "       '072Фінанси,банківськасправатастрахування',\n",
       "       '071Облікіоподаткування', '061Журналістика', '054Соціологія',\n",
       "       '053Психологія', '051Економіка', '035Філологія',\n",
       "       '034Культурологія', '033Філософія', '032Історіятаархеологія',\n",
       "       '227Фізичнатерапія,ерготерапія',\n",
       "       '183Технологіїзахистунавколишньогосередовища',\n",
       "       '172Телекомунікаціїтарадіотехніка', '171Електроніка',\n",
       "       '144Теплоенергетика', '142Енергетичнемашинобудування',\n",
       "       '141Електроенергетика,електротехнікатаелектромеханіка',\n",
       "       '133Галузевемашинобудування', '132Матеріалознавство',\n",
       "       '131Прикладнамеханіка', '275Транспортнітехнології',\n",
       "       '274Автомобільнийтранспорт', '263Цивільнабезпека',\n",
       "       '261Пожежнабезпека', '232Соціальнезабезпечення',\n",
       "       '226Фармація,промисловафармація',\n",
       "       '194Гідротехнічнебудівництво,воднаінженеріятаводнітехнології',\n",
       "       '193Геодезіятаземлеустрій', '192Будівництвотацивільнаінженерія',\n",
       "       '186Видавництвотаполіграфія', '181Харчовітехнології',\n",
       "       '173Авіоніка', '152Метрологіятаінформаційно',\n",
       "       '126Інформаційнісистемитатехнології', '124Системнийаналіз',\n",
       "       '121Інженеріяпрограмногозабезпечення',\n",
       "       '029Інформаційна,бібліотечнатаархівнасправа',\n",
       "       '027Музеєзнавство,пам’яткознавство', '015Професійнаосвіта',\n",
       "       '184Гірництво', '163Біомедичнаінженерія',\n",
       "       '161Хімічнітехнологіїтаінженерія', '143Атомнаенергетика',\n",
       "       '136Металургія', '134Авіаційнатаракетно', '293Міжнароднеправо',\n",
       "       '112Статистика', '052Політологія', '014Середняосвіта',\n",
       "       '013Початковаосвіта', '012Дошкільнаосвіта'], dtype=object)"
      ]
     },
     "execution_count": 17,
     "metadata": {},
     "output_type": "execute_result"
    }
   ],
   "source": [
    "df18.specialty.unique()"
   ]
  },
  {
   "cell_type": "code",
   "execution_count": 21,
   "id": "e4d62453-002c-4888-862f-79ae8b8c5b07",
   "metadata": {},
   "outputs": [],
   "source": [
    "import re"
   ]
  },
  {
   "cell_type": "code",
   "execution_count": 22,
   "id": "b8bc3514-7b5a-4a7c-a08a-5b4982b683fe",
   "metadata": {},
   "outputs": [
    {
     "data": {
      "text/plain": [
       "'fdsa'"
      ]
     },
     "execution_count": 22,
     "metadata": {},
     "output_type": "execute_result"
    }
   ],
   "source": [
    "re.sub(r'\\d', '', '123fdsa')"
   ]
  },
  {
   "cell_type": "code",
   "execution_count": 24,
   "id": "6b9a6a7e-a74d-487b-a00a-622b58e2cc74",
   "metadata": {},
   "outputs": [],
   "source": [
    "df18['specialty'] = df18.specialty.apply(lambda x : re.sub(r'\\d', '', x))\n",
    "df19['specialty'] = df19.specialty.apply(lambda x : re.sub(r'\\d', '', x))\n",
    "df20['specialty'] = df20.specialty.apply(lambda x : re.sub(r'\\d', '', x))"
   ]
  },
  {
   "cell_type": "code",
   "execution_count": 28,
   "id": "8d9a39e2-795d-4f46-ab89-1076b44eb618",
   "metadata": {},
   "outputs": [],
   "source": [
    "common_specialties = list(set(df17.specialty.unique()) & set(df18.specialty.unique()) & set(df19.specialty.unique()) & set(df20.specialty.unique()))"
   ]
  },
  {
   "cell_type": "code",
   "execution_count": 31,
   "id": "5444f082-14c8-493f-bfa5-2ca4800de6d8",
   "metadata": {},
   "outputs": [],
   "source": [
    "df17 = df17[df17.specialty.apply(lambda x : x in common_specialties)]\n",
    "df18 = df18[df18.specialty.apply(lambda x : x in common_specialties)]\n",
    "df19 = df19[df19.specialty.apply(lambda x : x in common_specialties)]\n",
    "df20 = df20[df20.specialty.apply(lambda x : x in common_specialties)]"
   ]
  },
  {
   "cell_type": "code",
   "execution_count": 43,
   "id": "929b8ba8-87b2-4113-88d5-dfc087b6f4d3",
   "metadata": {},
   "outputs": [
    {
     "data": {
      "text/plain": [
       "Index(['Unnamed: 0', 'student_id', 'priority', 'mark', 'status', 'kvota',\n",
       "       'year', 'specialty', 'university', 'placesCount', 'budgetCount',\n",
       "       'contractCount', 'vstup', 'budget_mark_mean', 'mark_mean', 'abit_count',\n",
       "       'mark_max', 'mark_min', 'budget_mark_max', 'budget_mark_min',\n",
       "       'position'],\n",
       "      dtype='object')"
      ]
     },
     "execution_count": 43,
     "metadata": {},
     "output_type": "execute_result"
    }
   ],
   "source": [
    "df17.columns"
   ]
  },
  {
   "cell_type": "code",
   "execution_count": 47,
   "id": "9f459855-cabc-4bac-900b-81a93007f42a",
   "metadata": {},
   "outputs": [],
   "source": [
    "df17_grouped = df17.groupby(['specialty', 'university'], as_index = False)[['budget_mark_mean', 'mark_mean', 'abit_count',\n",
    "       'mark_max', 'mark_min', 'budget_mark_max', 'budget_mark_min']].mean()\n",
    "df18_grouped = df18.groupby(['specialty', 'university'], as_index = False)[['budget_mark_mean', 'mark_mean', 'abit_count',\n",
    "       'mark_max', 'mark_min', 'budget_mark_max', 'budget_mark_min']].mean()\n",
    "df19_grouped = df19.groupby(['specialty', 'university'], as_index = False)[['budget_mark_mean', 'mark_mean', 'abit_count',\n",
    "       'mark_max', 'mark_min', 'budget_mark_max', 'budget_mark_min']].mean()"
   ]
  },
  {
   "cell_type": "code",
   "execution_count": 51,
   "id": "1a666244-abe1-4dc9-a857-e14cb7383852",
   "metadata": {},
   "outputs": [
    {
     "data": {
      "text/plain": [
       "97069"
      ]
     },
     "execution_count": 51,
     "metadata": {},
     "output_type": "execute_result"
    }
   ],
   "source": [
    "len(df18)"
   ]
  },
  {
   "cell_type": "code",
   "execution_count": 55,
   "id": "6fb34409-4f5c-4355-8e76-d6436122b0a6",
   "metadata": {},
   "outputs": [],
   "source": [
    "df18_prepared = df18.set_index(['specialty', 'university']).join(df17_grouped.set_index(['specialty', 'university']), how = 'inner', lsuffix = '_current', rsuffix ='_previous').reset_index()\n",
    "df19_prepared = df19.set_index(['specialty', 'university']).join(df18_grouped.set_index(['specialty', 'university']), how = 'inner', lsuffix = '_current', rsuffix ='_previous').reset_index()\n",
    "df20_prepared = df20.set_index(['specialty', 'university']).join(df19_grouped.set_index(['specialty', 'university']), how = 'inner', lsuffix = '_current', rsuffix ='_previous').reset_index()"
   ]
  },
  {
   "cell_type": "code",
   "execution_count": 56,
   "id": "873c39c4-b2a8-4250-a1df-022df22bf941",
   "metadata": {},
   "outputs": [
    {
     "data": {
      "text/html": [
       "<div>\n",
       "<style scoped>\n",
       "    .dataframe tbody tr th:only-of-type {\n",
       "        vertical-align: middle;\n",
       "    }\n",
       "\n",
       "    .dataframe tbody tr th {\n",
       "        vertical-align: top;\n",
       "    }\n",
       "\n",
       "    .dataframe thead th {\n",
       "        text-align: right;\n",
       "    }\n",
       "</style>\n",
       "<table border=\"1\" class=\"dataframe\">\n",
       "  <thead>\n",
       "    <tr style=\"text-align: right;\">\n",
       "      <th></th>\n",
       "      <th>specialty</th>\n",
       "      <th>university</th>\n",
       "      <th>Unnamed: 0</th>\n",
       "      <th>student_id</th>\n",
       "      <th>priority</th>\n",
       "      <th>mark</th>\n",
       "      <th>status</th>\n",
       "      <th>kvota</th>\n",
       "      <th>year</th>\n",
       "      <th>placesCount</th>\n",
       "      <th>...</th>\n",
       "      <th>budget_mark_max_current</th>\n",
       "      <th>budget_mark_min_current</th>\n",
       "      <th>position</th>\n",
       "      <th>budget_mark_mean_previous</th>\n",
       "      <th>mark_mean_previous</th>\n",
       "      <th>abit_count_previous</th>\n",
       "      <th>mark_max_previous</th>\n",
       "      <th>mark_min_previous</th>\n",
       "      <th>budget_mark_max_previous</th>\n",
       "      <th>budget_mark_min_previous</th>\n",
       "    </tr>\n",
       "  </thead>\n",
       "  <tbody>\n",
       "    <tr>\n",
       "      <th>0</th>\n",
       "      <td>Інженеріяпрограмногозабезпечення</td>\n",
       "      <td>Національний технічний університет України «Ки...</td>\n",
       "      <td>59660</td>\n",
       "      <td>5</td>\n",
       "      <td>1</td>\n",
       "      <td>200.0</td>\n",
       "      <td>До наказу (бюджет)</td>\n",
       "      <td>NaN</td>\n",
       "      <td>2018</td>\n",
       "      <td>257</td>\n",
       "      <td>...</td>\n",
       "      <td>200.0</td>\n",
       "      <td>115.35</td>\n",
       "      <td>1</td>\n",
       "      <td>191.97133</td>\n",
       "      <td>173.384867</td>\n",
       "      <td>2072.000935</td>\n",
       "      <td>200.0</td>\n",
       "      <td>118.687881</td>\n",
       "      <td>198.551103</td>\n",
       "      <td>161.365869</td>\n",
       "    </tr>\n",
       "    <tr>\n",
       "      <th>1</th>\n",
       "      <td>Інженеріяпрограмногозабезпечення</td>\n",
       "      <td>Національний технічний університет України «Ки...</td>\n",
       "      <td>59661</td>\n",
       "      <td>6</td>\n",
       "      <td>1</td>\n",
       "      <td>200.0</td>\n",
       "      <td>До наказу (бюджет)</td>\n",
       "      <td>NaN</td>\n",
       "      <td>2018</td>\n",
       "      <td>257</td>\n",
       "      <td>...</td>\n",
       "      <td>200.0</td>\n",
       "      <td>115.35</td>\n",
       "      <td>2</td>\n",
       "      <td>191.97133</td>\n",
       "      <td>173.384867</td>\n",
       "      <td>2072.000935</td>\n",
       "      <td>200.0</td>\n",
       "      <td>118.687881</td>\n",
       "      <td>198.551103</td>\n",
       "      <td>161.365869</td>\n",
       "    </tr>\n",
       "    <tr>\n",
       "      <th>2</th>\n",
       "      <td>Інженеріяпрограмногозабезпечення</td>\n",
       "      <td>Національний технічний університет України «Ки...</td>\n",
       "      <td>59662</td>\n",
       "      <td>7</td>\n",
       "      <td>1</td>\n",
       "      <td>200.0</td>\n",
       "      <td>До наказу (бюджет)</td>\n",
       "      <td>NaN</td>\n",
       "      <td>2018</td>\n",
       "      <td>257</td>\n",
       "      <td>...</td>\n",
       "      <td>200.0</td>\n",
       "      <td>115.35</td>\n",
       "      <td>3</td>\n",
       "      <td>191.97133</td>\n",
       "      <td>173.384867</td>\n",
       "      <td>2072.000935</td>\n",
       "      <td>200.0</td>\n",
       "      <td>118.687881</td>\n",
       "      <td>198.551103</td>\n",
       "      <td>161.365869</td>\n",
       "    </tr>\n",
       "    <tr>\n",
       "      <th>3</th>\n",
       "      <td>Інженеріяпрограмногозабезпечення</td>\n",
       "      <td>Національний технічний університет України «Ки...</td>\n",
       "      <td>59663</td>\n",
       "      <td>8</td>\n",
       "      <td>1</td>\n",
       "      <td>200.0</td>\n",
       "      <td>До наказу (бюджет)</td>\n",
       "      <td>NaN</td>\n",
       "      <td>2018</td>\n",
       "      <td>257</td>\n",
       "      <td>...</td>\n",
       "      <td>200.0</td>\n",
       "      <td>115.35</td>\n",
       "      <td>4</td>\n",
       "      <td>191.97133</td>\n",
       "      <td>173.384867</td>\n",
       "      <td>2072.000935</td>\n",
       "      <td>200.0</td>\n",
       "      <td>118.687881</td>\n",
       "      <td>198.551103</td>\n",
       "      <td>161.365869</td>\n",
       "    </tr>\n",
       "    <tr>\n",
       "      <th>4</th>\n",
       "      <td>Інженеріяпрограмногозабезпечення</td>\n",
       "      <td>Національний технічний університет України «Ки...</td>\n",
       "      <td>59664</td>\n",
       "      <td>9</td>\n",
       "      <td>1</td>\n",
       "      <td>200.0</td>\n",
       "      <td>До наказу (бюджет)</td>\n",
       "      <td>NaN</td>\n",
       "      <td>2018</td>\n",
       "      <td>257</td>\n",
       "      <td>...</td>\n",
       "      <td>200.0</td>\n",
       "      <td>115.35</td>\n",
       "      <td>5</td>\n",
       "      <td>191.97133</td>\n",
       "      <td>173.384867</td>\n",
       "      <td>2072.000935</td>\n",
       "      <td>200.0</td>\n",
       "      <td>118.687881</td>\n",
       "      <td>198.551103</td>\n",
       "      <td>161.365869</td>\n",
       "    </tr>\n",
       "  </tbody>\n",
       "</table>\n",
       "<p>5 rows × 28 columns</p>\n",
       "</div>"
      ],
      "text/plain": [
       "                          specialty  \\\n",
       "0  Інженеріяпрограмногозабезпечення   \n",
       "1  Інженеріяпрограмногозабезпечення   \n",
       "2  Інженеріяпрограмногозабезпечення   \n",
       "3  Інженеріяпрограмногозабезпечення   \n",
       "4  Інженеріяпрограмногозабезпечення   \n",
       "\n",
       "                                          university  Unnamed: 0  student_id  \\\n",
       "0  Національний технічний університет України «Ки...       59660           5   \n",
       "1  Національний технічний університет України «Ки...       59661           6   \n",
       "2  Національний технічний університет України «Ки...       59662           7   \n",
       "3  Національний технічний університет України «Ки...       59663           8   \n",
       "4  Національний технічний університет України «Ки...       59664           9   \n",
       "\n",
       "  priority   mark              status kvota  year  placesCount  ...  \\\n",
       "0        1  200.0  До наказу (бюджет)   NaN  2018          257  ...   \n",
       "1        1  200.0  До наказу (бюджет)   NaN  2018          257  ...   \n",
       "2        1  200.0  До наказу (бюджет)   NaN  2018          257  ...   \n",
       "3        1  200.0  До наказу (бюджет)   NaN  2018          257  ...   \n",
       "4        1  200.0  До наказу (бюджет)   NaN  2018          257  ...   \n",
       "\n",
       "   budget_mark_max_current  budget_mark_min_current  position  \\\n",
       "0                    200.0                   115.35         1   \n",
       "1                    200.0                   115.35         2   \n",
       "2                    200.0                   115.35         3   \n",
       "3                    200.0                   115.35         4   \n",
       "4                    200.0                   115.35         5   \n",
       "\n",
       "   budget_mark_mean_previous  mark_mean_previous  abit_count_previous  \\\n",
       "0                  191.97133          173.384867          2072.000935   \n",
       "1                  191.97133          173.384867          2072.000935   \n",
       "2                  191.97133          173.384867          2072.000935   \n",
       "3                  191.97133          173.384867          2072.000935   \n",
       "4                  191.97133          173.384867          2072.000935   \n",
       "\n",
       "   mark_max_previous  mark_min_previous  budget_mark_max_previous  \\\n",
       "0              200.0         118.687881                198.551103   \n",
       "1              200.0         118.687881                198.551103   \n",
       "2              200.0         118.687881                198.551103   \n",
       "3              200.0         118.687881                198.551103   \n",
       "4              200.0         118.687881                198.551103   \n",
       "\n",
       "   budget_mark_min_previous  \n",
       "0                161.365869  \n",
       "1                161.365869  \n",
       "2                161.365869  \n",
       "3                161.365869  \n",
       "4                161.365869  \n",
       "\n",
       "[5 rows x 28 columns]"
      ]
     },
     "execution_count": 56,
     "metadata": {},
     "output_type": "execute_result"
    }
   ],
   "source": [
    "df18_prepared.head()"
   ]
  },
  {
   "cell_type": "code",
   "execution_count": 57,
   "id": "3286ce4b-544d-41ad-b734-55dd1c2e8f93",
   "metadata": {},
   "outputs": [
    {
     "data": {
      "text/plain": [
       "Index(['specialty', 'university', 'Unnamed: 0', 'student_id', 'priority',\n",
       "       'mark', 'status', 'kvota', 'year', 'placesCount', 'budgetCount',\n",
       "       'contractCount', 'vstup', 'budget_mark_mean_current',\n",
       "       'mark_mean_current', 'abit_count_current', 'mark_max_current',\n",
       "       'mark_min_current', 'budget_mark_max_current',\n",
       "       'budget_mark_min_current', 'position', 'budget_mark_mean_previous',\n",
       "       'mark_mean_previous', 'abit_count_previous', 'mark_max_previous',\n",
       "       'mark_min_previous', 'budget_mark_max_previous',\n",
       "       'budget_mark_min_previous'],\n",
       "      dtype='object')"
      ]
     },
     "execution_count": 57,
     "metadata": {},
     "output_type": "execute_result"
    }
   ],
   "source": [
    "df18_prepared.columns"
   ]
  },
  {
   "cell_type": "code",
   "execution_count": 59,
   "id": "51870b3d-078d-4fdf-9204-415b5771e900",
   "metadata": {},
   "outputs": [],
   "source": [
    "df18_prepared = df18_prepared[['specialty', 'university','priority',\n",
    "       'mark', 'kvota','placesCount', 'budgetCount',\n",
    "       'contractCount', 'vstup', 'budget_mark_mean_previous',\n",
    "       'mark_mean_previous', 'abit_count_previous', 'mark_max_previous',\n",
    "       'mark_min_previous', 'budget_mark_max_previous']]\n",
    "df19_prepared = df19_prepared[['specialty', 'university','priority',\n",
    "       'mark', 'kvota','placesCount', 'budgetCount',\n",
    "       'contractCount', 'vstup', 'budget_mark_mean_previous',\n",
    "       'mark_mean_previous', 'abit_count_previous', 'mark_max_previous',\n",
    "       'mark_min_previous', 'budget_mark_max_previous']]\n",
    "df20_prepared = df20_prepared[['specialty', 'university','priority',\n",
    "       'mark', 'kvota','placesCount', 'budgetCount',\n",
    "       'contractCount', 'vstup', 'budget_mark_mean_previous',\n",
    "       'mark_mean_previous', 'abit_count_previous', 'mark_max_previous',\n",
    "       'mark_min_previous', 'budget_mark_max_previous']]"
   ]
  },
  {
   "cell_type": "code",
   "execution_count": 62,
   "id": "c210f6a0-b41f-4d27-83d3-73ffd305105d",
   "metadata": {},
   "outputs": [],
   "source": [
    "df18_prepared.to_csv('df18_preprocess.csv', index = False)\n",
    "df19_prepared.to_csv('df19_preprocess.csv', index = False)\n",
    "df20_prepared.to_csv('df20_preprocess.csv', index = False)"
   ]
  },
  {
   "cell_type": "code",
   "execution_count": null,
   "id": "b34ae3ad-8371-4ddf-8221-896bcfe2a403",
   "metadata": {},
   "outputs": [],
   "source": []
  }
 ],
 "metadata": {
  "kernelspec": {
   "display_name": "Python 3 (ipykernel)",
   "language": "python",
   "name": "python3"
  },
  "language_info": {
   "codemirror_mode": {
    "name": "ipython",
    "version": 3
   },
   "file_extension": ".py",
   "mimetype": "text/x-python",
   "name": "python",
   "nbconvert_exporter": "python",
   "pygments_lexer": "ipython3",
   "version": "3.11.6"
  }
 },
 "nbformat": 4,
 "nbformat_minor": 5
}
