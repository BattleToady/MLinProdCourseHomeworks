{
 "cells": [
  {
   "cell_type": "code",
   "execution_count": 1,
   "id": "8ed0b0ea-06e4-4f9b-880f-cb95a5b5ca85",
   "metadata": {},
   "outputs": [],
   "source": [
    "import pandas as pd"
   ]
  },
  {
   "cell_type": "code",
   "execution_count": 2,
   "id": "b4b77bea-e7df-429d-9a9a-ae6e55e6be9b",
   "metadata": {},
   "outputs": [],
   "source": [
    "df18 = pd.read_csv('df18_preprocess.csv')\n",
    "df19 = pd.read_csv('df19_preprocess.csv')\n",
    "df20 = pd.read_csv('df20_preprocess.csv')"
   ]
  },
  {
   "cell_type": "code",
   "execution_count": 3,
   "id": "5281e70f-5fef-4b97-ab52-cab7eda6b422",
   "metadata": {},
   "outputs": [
    {
     "data": {
      "text/plain": [
       "73538"
      ]
     },
     "execution_count": 3,
     "metadata": {},
     "output_type": "execute_result"
    }
   ],
   "source": [
    "len(df18)"
   ]
  },
  {
   "cell_type": "code",
   "execution_count": 4,
   "id": "781d8c24-affc-4a8c-a1c3-20c2f95aa121",
   "metadata": {},
   "outputs": [
    {
     "data": {
      "text/plain": [
       "68092"
      ]
     },
     "execution_count": 4,
     "metadata": {},
     "output_type": "execute_result"
    }
   ],
   "source": [
    "len(df19)"
   ]
  },
  {
   "cell_type": "code",
   "execution_count": 5,
   "id": "2a179d61-e387-4b91-888e-3446757dcdb7",
   "metadata": {},
   "outputs": [
    {
     "data": {
      "text/plain": [
       "98586"
      ]
     },
     "execution_count": 5,
     "metadata": {},
     "output_type": "execute_result"
    }
   ],
   "source": [
    "len(df20)"
   ]
  },
  {
   "cell_type": "code",
   "execution_count": 6,
   "id": "5a763453-cdb6-4b5b-bde6-5881067fd6a2",
   "metadata": {},
   "outputs": [],
   "source": [
    "train_set = pd.concat([df18, df19]).drop_duplicates()"
   ]
  },
  {
   "cell_type": "code",
   "execution_count": 7,
   "id": "aaa597ef-58d7-45f3-a89e-45ae324a006f",
   "metadata": {},
   "outputs": [],
   "source": [
    "test_set = df20.copy()"
   ]
  },
  {
   "cell_type": "code",
   "execution_count": 8,
   "id": "606fec4e-4792-439e-ba48-95a2ed21a7c2",
   "metadata": {},
   "outputs": [
    {
     "data": {
      "text/html": [
       "<div>\n",
       "<style scoped>\n",
       "    .dataframe tbody tr th:only-of-type {\n",
       "        vertical-align: middle;\n",
       "    }\n",
       "\n",
       "    .dataframe tbody tr th {\n",
       "        vertical-align: top;\n",
       "    }\n",
       "\n",
       "    .dataframe thead th {\n",
       "        text-align: right;\n",
       "    }\n",
       "</style>\n",
       "<table border=\"1\" class=\"dataframe\">\n",
       "  <thead>\n",
       "    <tr style=\"text-align: right;\">\n",
       "      <th></th>\n",
       "      <th>specialty</th>\n",
       "      <th>university</th>\n",
       "      <th>priority</th>\n",
       "      <th>mark</th>\n",
       "      <th>kvota</th>\n",
       "      <th>placesCount</th>\n",
       "      <th>budgetCount</th>\n",
       "      <th>contractCount</th>\n",
       "      <th>vstup</th>\n",
       "      <th>budget_mark_mean_previous</th>\n",
       "      <th>mark_mean_previous</th>\n",
       "      <th>abit_count_previous</th>\n",
       "      <th>mark_max_previous</th>\n",
       "      <th>mark_min_previous</th>\n",
       "      <th>budget_mark_max_previous</th>\n",
       "    </tr>\n",
       "  </thead>\n",
       "  <tbody>\n",
       "    <tr>\n",
       "      <th>0</th>\n",
       "      <td>Інженеріяпрограмногозабезпечення</td>\n",
       "      <td>Національний технічний університет України «Ки...</td>\n",
       "      <td>1</td>\n",
       "      <td>200.0</td>\n",
       "      <td>NaN</td>\n",
       "      <td>257</td>\n",
       "      <td>141</td>\n",
       "      <td>116</td>\n",
       "      <td>True</td>\n",
       "      <td>191.97133</td>\n",
       "      <td>173.384867</td>\n",
       "      <td>2072.000935</td>\n",
       "      <td>200.0</td>\n",
       "      <td>118.687881</td>\n",
       "      <td>198.551103</td>\n",
       "    </tr>\n",
       "    <tr>\n",
       "      <th>13</th>\n",
       "      <td>Інженеріяпрограмногозабезпечення</td>\n",
       "      <td>Національний технічний університет України «Ки...</td>\n",
       "      <td>К</td>\n",
       "      <td>200.0</td>\n",
       "      <td>NaN</td>\n",
       "      <td>257</td>\n",
       "      <td>141</td>\n",
       "      <td>116</td>\n",
       "      <td>False</td>\n",
       "      <td>191.97133</td>\n",
       "      <td>173.384867</td>\n",
       "      <td>2072.000935</td>\n",
       "      <td>200.0</td>\n",
       "      <td>118.687881</td>\n",
       "      <td>198.551103</td>\n",
       "    </tr>\n",
       "    <tr>\n",
       "      <th>14</th>\n",
       "      <td>Інженеріяпрограмногозабезпечення</td>\n",
       "      <td>Національний технічний університет України «Ки...</td>\n",
       "      <td>2</td>\n",
       "      <td>200.0</td>\n",
       "      <td>NaN</td>\n",
       "      <td>257</td>\n",
       "      <td>141</td>\n",
       "      <td>116</td>\n",
       "      <td>False</td>\n",
       "      <td>191.97133</td>\n",
       "      <td>173.384867</td>\n",
       "      <td>2072.000935</td>\n",
       "      <td>200.0</td>\n",
       "      <td>118.687881</td>\n",
       "      <td>198.551103</td>\n",
       "    </tr>\n",
       "    <tr>\n",
       "      <th>19</th>\n",
       "      <td>Інженеріяпрограмногозабезпечення</td>\n",
       "      <td>Національний технічний університет України «Ки...</td>\n",
       "      <td>3</td>\n",
       "      <td>200.0</td>\n",
       "      <td>NaN</td>\n",
       "      <td>257</td>\n",
       "      <td>141</td>\n",
       "      <td>116</td>\n",
       "      <td>False</td>\n",
       "      <td>191.97133</td>\n",
       "      <td>173.384867</td>\n",
       "      <td>2072.000935</td>\n",
       "      <td>200.0</td>\n",
       "      <td>118.687881</td>\n",
       "      <td>198.551103</td>\n",
       "    </tr>\n",
       "    <tr>\n",
       "      <th>24</th>\n",
       "      <td>Інженеріяпрограмногозабезпечення</td>\n",
       "      <td>Національний технічний університет України «Ки...</td>\n",
       "      <td>4</td>\n",
       "      <td>200.0</td>\n",
       "      <td>NaN</td>\n",
       "      <td>257</td>\n",
       "      <td>141</td>\n",
       "      <td>116</td>\n",
       "      <td>False</td>\n",
       "      <td>191.97133</td>\n",
       "      <td>173.384867</td>\n",
       "      <td>2072.000935</td>\n",
       "      <td>200.0</td>\n",
       "      <td>118.687881</td>\n",
       "      <td>198.551103</td>\n",
       "    </tr>\n",
       "  </tbody>\n",
       "</table>\n",
       "</div>"
      ],
      "text/plain": [
       "                           specialty  \\\n",
       "0   Інженеріяпрограмногозабезпечення   \n",
       "13  Інженеріяпрограмногозабезпечення   \n",
       "14  Інженеріяпрограмногозабезпечення   \n",
       "19  Інженеріяпрограмногозабезпечення   \n",
       "24  Інженеріяпрограмногозабезпечення   \n",
       "\n",
       "                                           university priority   mark kvota  \\\n",
       "0   Національний технічний університет України «Ки...        1  200.0   NaN   \n",
       "13  Національний технічний університет України «Ки...        К  200.0   NaN   \n",
       "14  Національний технічний університет України «Ки...        2  200.0   NaN   \n",
       "19  Національний технічний університет України «Ки...        3  200.0   NaN   \n",
       "24  Національний технічний університет України «Ки...        4  200.0   NaN   \n",
       "\n",
       "    placesCount  budgetCount  contractCount  vstup  budget_mark_mean_previous  \\\n",
       "0           257          141            116   True                  191.97133   \n",
       "13          257          141            116  False                  191.97133   \n",
       "14          257          141            116  False                  191.97133   \n",
       "19          257          141            116  False                  191.97133   \n",
       "24          257          141            116  False                  191.97133   \n",
       "\n",
       "    mark_mean_previous  abit_count_previous  mark_max_previous  \\\n",
       "0           173.384867          2072.000935              200.0   \n",
       "13          173.384867          2072.000935              200.0   \n",
       "14          173.384867          2072.000935              200.0   \n",
       "19          173.384867          2072.000935              200.0   \n",
       "24          173.384867          2072.000935              200.0   \n",
       "\n",
       "    mark_min_previous  budget_mark_max_previous  \n",
       "0          118.687881                198.551103  \n",
       "13         118.687881                198.551103  \n",
       "14         118.687881                198.551103  \n",
       "19         118.687881                198.551103  \n",
       "24         118.687881                198.551103  "
      ]
     },
     "execution_count": 8,
     "metadata": {},
     "output_type": "execute_result"
    }
   ],
   "source": [
    "train_set.head()"
   ]
  },
  {
   "cell_type": "code",
   "execution_count": 9,
   "id": "e9ef6b9b-7c0a-43b4-b233-89dcfde17578",
   "metadata": {},
   "outputs": [
    {
     "data": {
      "text/plain": [
       "array(['1', 'К', '2', '3', '4', '5', '6', '7'], dtype=object)"
      ]
     },
     "execution_count": 9,
     "metadata": {},
     "output_type": "execute_result"
    }
   ],
   "source": [
    "train_set.priority.unique()"
   ]
  },
  {
   "cell_type": "code",
   "execution_count": 10,
   "id": "7f56844f-6e4b-4e56-8c2c-03bb09f5de0a",
   "metadata": {},
   "outputs": [
    {
     "data": {
      "text/plain": [
       "array(['5', '2', '3', '1', '4', 'К'], dtype=object)"
      ]
     },
     "execution_count": 10,
     "metadata": {},
     "output_type": "execute_result"
    }
   ],
   "source": [
    "test_set.priority.unique()"
   ]
  },
  {
   "cell_type": "code",
   "execution_count": 11,
   "id": "601d8ce1-70a8-4f2f-8575-00b306608d69",
   "metadata": {},
   "outputs": [
    {
     "data": {
      "text/plain": [
       "array([nan, 'Квота-1'], dtype=object)"
      ]
     },
     "execution_count": 11,
     "metadata": {},
     "output_type": "execute_result"
    }
   ],
   "source": [
    "train_set.kvota.unique()"
   ]
  },
  {
   "cell_type": "code",
   "execution_count": 12,
   "id": "b4e82f2b-0e51-4cfc-a4d2-5bc5fd4cdffe",
   "metadata": {},
   "outputs": [
    {
     "data": {
      "text/plain": [
       "array([nan, 'Квота-1', 'Квота-2'], dtype=object)"
      ]
     },
     "execution_count": 12,
     "metadata": {},
     "output_type": "execute_result"
    }
   ],
   "source": [
    "test_set.kvota.unique()"
   ]
  },
  {
   "cell_type": "code",
   "execution_count": 13,
   "id": "6a89224e-446f-42b2-985a-c3bf9728befe",
   "metadata": {},
   "outputs": [
    {
     "data": {
      "text/plain": [
       "array([ True, False])"
      ]
     },
     "execution_count": 13,
     "metadata": {},
     "output_type": "execute_result"
    }
   ],
   "source": [
    "train_set.vstup.unique()"
   ]
  },
  {
   "cell_type": "code",
   "execution_count": 14,
   "id": "d36bfb56-e2ce-477a-b3cc-586bc54f2893",
   "metadata": {},
   "outputs": [
    {
     "data": {
      "text/plain": [
       "array([False,  True])"
      ]
     },
     "execution_count": 14,
     "metadata": {},
     "output_type": "execute_result"
    }
   ],
   "source": [
    "test_set.vstup.unique()"
   ]
  },
  {
   "cell_type": "code",
   "execution_count": 15,
   "id": "f645ddcc-9ce4-4d9f-baad-819858027bc2",
   "metadata": {},
   "outputs": [
    {
     "data": {
      "text/html": [
       "<div>\n",
       "<style scoped>\n",
       "    .dataframe tbody tr th:only-of-type {\n",
       "        vertical-align: middle;\n",
       "    }\n",
       "\n",
       "    .dataframe tbody tr th {\n",
       "        vertical-align: top;\n",
       "    }\n",
       "\n",
       "    .dataframe thead th {\n",
       "        text-align: right;\n",
       "    }\n",
       "</style>\n",
       "<table border=\"1\" class=\"dataframe\">\n",
       "  <thead>\n",
       "    <tr style=\"text-align: right;\">\n",
       "      <th></th>\n",
       "      <th>mark</th>\n",
       "      <th>placesCount</th>\n",
       "      <th>budgetCount</th>\n",
       "      <th>contractCount</th>\n",
       "      <th>budget_mark_mean_previous</th>\n",
       "      <th>mark_mean_previous</th>\n",
       "      <th>abit_count_previous</th>\n",
       "      <th>mark_max_previous</th>\n",
       "      <th>mark_min_previous</th>\n",
       "      <th>budget_mark_max_previous</th>\n",
       "    </tr>\n",
       "  </thead>\n",
       "  <tbody>\n",
       "    <tr>\n",
       "      <th>count</th>\n",
       "      <td>131159.000000</td>\n",
       "      <td>131159.000000</td>\n",
       "      <td>131159.000000</td>\n",
       "      <td>1.311590e+05</td>\n",
       "      <td>131159.000000</td>\n",
       "      <td>131159.000000</td>\n",
       "      <td>131159.000000</td>\n",
       "      <td>131159.000000</td>\n",
       "      <td>131159.000000</td>\n",
       "      <td>131159.000000</td>\n",
       "    </tr>\n",
       "    <tr>\n",
       "      <th>mean</th>\n",
       "      <td>167.188628</td>\n",
       "      <td>147.528778</td>\n",
       "      <td>67.969419</td>\n",
       "      <td>8.401022e+07</td>\n",
       "      <td>182.740868</td>\n",
       "      <td>166.187250</td>\n",
       "      <td>999.562284</td>\n",
       "      <td>198.868049</td>\n",
       "      <td>116.498194</td>\n",
       "      <td>195.318013</td>\n",
       "    </tr>\n",
       "    <tr>\n",
       "      <th>std</th>\n",
       "      <td>18.294328</td>\n",
       "      <td>101.831142</td>\n",
       "      <td>56.800820</td>\n",
       "      <td>4.031295e+08</td>\n",
       "      <td>10.031438</td>\n",
       "      <td>6.277082</td>\n",
       "      <td>737.235383</td>\n",
       "      <td>2.638528</td>\n",
       "      <td>5.356962</td>\n",
       "      <td>5.184409</td>\n",
       "    </tr>\n",
       "    <tr>\n",
       "      <th>min</th>\n",
       "      <td>103.785000</td>\n",
       "      <td>10.000000</td>\n",
       "      <td>2.000000</td>\n",
       "      <td>1.000000e+00</td>\n",
       "      <td>134.954200</td>\n",
       "      <td>141.160771</td>\n",
       "      <td>19.000000</td>\n",
       "      <td>175.083000</td>\n",
       "      <td>100.647000</td>\n",
       "      <td>158.202000</td>\n",
       "    </tr>\n",
       "    <tr>\n",
       "      <th>25%</th>\n",
       "      <td>154.452000</td>\n",
       "      <td>70.000000</td>\n",
       "      <td>23.000000</td>\n",
       "      <td>5.000000e+00</td>\n",
       "      <td>180.144517</td>\n",
       "      <td>162.033586</td>\n",
       "      <td>392.717293</td>\n",
       "      <td>199.688202</td>\n",
       "      <td>113.424000</td>\n",
       "      <td>193.289000</td>\n",
       "    </tr>\n",
       "    <tr>\n",
       "      <th>50%</th>\n",
       "      <td>169.600000</td>\n",
       "      <td>120.000000</td>\n",
       "      <td>57.000000</td>\n",
       "      <td>4.100000e+01</td>\n",
       "      <td>185.423790</td>\n",
       "      <td>167.850803</td>\n",
       "      <td>803.997277</td>\n",
       "      <td>200.000000</td>\n",
       "      <td>116.127317</td>\n",
       "      <td>197.315618</td>\n",
       "    </tr>\n",
       "    <tr>\n",
       "      <th>75%</th>\n",
       "      <td>181.764000</td>\n",
       "      <td>200.000000</td>\n",
       "      <td>95.000000</td>\n",
       "      <td>9.900000e+01</td>\n",
       "      <td>189.981333</td>\n",
       "      <td>171.152723</td>\n",
       "      <td>1446.000000</td>\n",
       "      <td>200.000000</td>\n",
       "      <td>118.900000</td>\n",
       "      <td>198.800720</td>\n",
       "    </tr>\n",
       "    <tr>\n",
       "      <th>max</th>\n",
       "      <td>200.000000</td>\n",
       "      <td>500.000000</td>\n",
       "      <td>229.000000</td>\n",
       "      <td>2.018501e+09</td>\n",
       "      <td>198.270500</td>\n",
       "      <td>182.243705</td>\n",
       "      <td>2672.000000</td>\n",
       "      <td>200.000000</td>\n",
       "      <td>144.024000</td>\n",
       "      <td>200.000000</td>\n",
       "    </tr>\n",
       "  </tbody>\n",
       "</table>\n",
       "</div>"
      ],
      "text/plain": [
       "                mark    placesCount    budgetCount  contractCount  \\\n",
       "count  131159.000000  131159.000000  131159.000000   1.311590e+05   \n",
       "mean      167.188628     147.528778      67.969419   8.401022e+07   \n",
       "std        18.294328     101.831142      56.800820   4.031295e+08   \n",
       "min       103.785000      10.000000       2.000000   1.000000e+00   \n",
       "25%       154.452000      70.000000      23.000000   5.000000e+00   \n",
       "50%       169.600000     120.000000      57.000000   4.100000e+01   \n",
       "75%       181.764000     200.000000      95.000000   9.900000e+01   \n",
       "max       200.000000     500.000000     229.000000   2.018501e+09   \n",
       "\n",
       "       budget_mark_mean_previous  mark_mean_previous  abit_count_previous  \\\n",
       "count              131159.000000       131159.000000        131159.000000   \n",
       "mean                  182.740868          166.187250           999.562284   \n",
       "std                    10.031438            6.277082           737.235383   \n",
       "min                   134.954200          141.160771            19.000000   \n",
       "25%                   180.144517          162.033586           392.717293   \n",
       "50%                   185.423790          167.850803           803.997277   \n",
       "75%                   189.981333          171.152723          1446.000000   \n",
       "max                   198.270500          182.243705          2672.000000   \n",
       "\n",
       "       mark_max_previous  mark_min_previous  budget_mark_max_previous  \n",
       "count      131159.000000      131159.000000             131159.000000  \n",
       "mean          198.868049         116.498194                195.318013  \n",
       "std             2.638528           5.356962                  5.184409  \n",
       "min           175.083000         100.647000                158.202000  \n",
       "25%           199.688202         113.424000                193.289000  \n",
       "50%           200.000000         116.127317                197.315618  \n",
       "75%           200.000000         118.900000                198.800720  \n",
       "max           200.000000         144.024000                200.000000  "
      ]
     },
     "execution_count": 15,
     "metadata": {},
     "output_type": "execute_result"
    }
   ],
   "source": [
    "train_set.describe()"
   ]
  },
  {
   "cell_type": "code",
   "execution_count": 16,
   "id": "4197be0b-df27-43f2-a2e5-caa3b49edb30",
   "metadata": {},
   "outputs": [
    {
     "data": {
      "text/html": [
       "<div>\n",
       "<style scoped>\n",
       "    .dataframe tbody tr th:only-of-type {\n",
       "        vertical-align: middle;\n",
       "    }\n",
       "\n",
       "    .dataframe tbody tr th {\n",
       "        vertical-align: top;\n",
       "    }\n",
       "\n",
       "    .dataframe thead th {\n",
       "        text-align: right;\n",
       "    }\n",
       "</style>\n",
       "<table border=\"1\" class=\"dataframe\">\n",
       "  <thead>\n",
       "    <tr style=\"text-align: right;\">\n",
       "      <th></th>\n",
       "      <th>mark</th>\n",
       "      <th>placesCount</th>\n",
       "      <th>budgetCount</th>\n",
       "      <th>contractCount</th>\n",
       "      <th>budget_mark_mean_previous</th>\n",
       "      <th>mark_mean_previous</th>\n",
       "      <th>abit_count_previous</th>\n",
       "      <th>mark_max_previous</th>\n",
       "      <th>mark_min_previous</th>\n",
       "      <th>budget_mark_max_previous</th>\n",
       "    </tr>\n",
       "  </thead>\n",
       "  <tbody>\n",
       "    <tr>\n",
       "      <th>count</th>\n",
       "      <td>98586.000000</td>\n",
       "      <td>98586.000000</td>\n",
       "      <td>98586.000000</td>\n",
       "      <td>98586.000000</td>\n",
       "      <td>98586.000000</td>\n",
       "      <td>98586.000000</td>\n",
       "      <td>98586.000000</td>\n",
       "      <td>98586.000000</td>\n",
       "      <td>98586.000000</td>\n",
       "      <td>98586.000000</td>\n",
       "    </tr>\n",
       "    <tr>\n",
       "      <th>mean</th>\n",
       "      <td>167.481029</td>\n",
       "      <td>150.991642</td>\n",
       "      <td>73.056144</td>\n",
       "      <td>58.141105</td>\n",
       "      <td>183.395106</td>\n",
       "      <td>167.596558</td>\n",
       "      <td>861.810660</td>\n",
       "      <td>198.807652</td>\n",
       "      <td>118.373742</td>\n",
       "      <td>195.677287</td>\n",
       "    </tr>\n",
       "    <tr>\n",
       "      <th>std</th>\n",
       "      <td>18.666775</td>\n",
       "      <td>107.183353</td>\n",
       "      <td>67.413742</td>\n",
       "      <td>71.654635</td>\n",
       "      <td>10.107032</td>\n",
       "      <td>7.049031</td>\n",
       "      <td>614.298936</td>\n",
       "      <td>2.641735</td>\n",
       "      <td>10.434078</td>\n",
       "      <td>5.270061</td>\n",
       "    </tr>\n",
       "    <tr>\n",
       "      <th>min</th>\n",
       "      <td>103.740000</td>\n",
       "      <td>8.000000</td>\n",
       "      <td>3.000000</td>\n",
       "      <td>2.000000</td>\n",
       "      <td>143.138235</td>\n",
       "      <td>139.322809</td>\n",
       "      <td>22.000000</td>\n",
       "      <td>179.300000</td>\n",
       "      <td>101.847000</td>\n",
       "      <td>164.570000</td>\n",
       "    </tr>\n",
       "    <tr>\n",
       "      <th>25%</th>\n",
       "      <td>154.326000</td>\n",
       "      <td>70.000000</td>\n",
       "      <td>22.000000</td>\n",
       "      <td>2.000000</td>\n",
       "      <td>182.149615</td>\n",
       "      <td>163.125365</td>\n",
       "      <td>366.540356</td>\n",
       "      <td>198.900000</td>\n",
       "      <td>110.400000</td>\n",
       "      <td>193.569808</td>\n",
       "    </tr>\n",
       "    <tr>\n",
       "      <th>50%</th>\n",
       "      <td>169.500000</td>\n",
       "      <td>120.000000</td>\n",
       "      <td>59.000000</td>\n",
       "      <td>30.000000</td>\n",
       "      <td>185.467631</td>\n",
       "      <td>168.508683</td>\n",
       "      <td>651.884314</td>\n",
       "      <td>200.000000</td>\n",
       "      <td>116.000000</td>\n",
       "      <td>197.472797</td>\n",
       "    </tr>\n",
       "    <tr>\n",
       "      <th>75%</th>\n",
       "      <td>182.500000</td>\n",
       "      <td>200.000000</td>\n",
       "      <td>107.000000</td>\n",
       "      <td>95.000000</td>\n",
       "      <td>190.041667</td>\n",
       "      <td>172.062701</td>\n",
       "      <td>1342.355836</td>\n",
       "      <td>200.000000</td>\n",
       "      <td>125.800000</td>\n",
       "      <td>200.000000</td>\n",
       "    </tr>\n",
       "    <tr>\n",
       "      <th>max</th>\n",
       "      <td>200.000000</td>\n",
       "      <td>450.000000</td>\n",
       "      <td>296.000000</td>\n",
       "      <td>328.000000</td>\n",
       "      <td>199.278200</td>\n",
       "      <td>182.897357</td>\n",
       "      <td>2241.000000</td>\n",
       "      <td>200.000000</td>\n",
       "      <td>142.444781</td>\n",
       "      <td>200.000000</td>\n",
       "    </tr>\n",
       "  </tbody>\n",
       "</table>\n",
       "</div>"
      ],
      "text/plain": [
       "               mark   placesCount   budgetCount  contractCount  \\\n",
       "count  98586.000000  98586.000000  98586.000000   98586.000000   \n",
       "mean     167.481029    150.991642     73.056144      58.141105   \n",
       "std       18.666775    107.183353     67.413742      71.654635   \n",
       "min      103.740000      8.000000      3.000000       2.000000   \n",
       "25%      154.326000     70.000000     22.000000       2.000000   \n",
       "50%      169.500000    120.000000     59.000000      30.000000   \n",
       "75%      182.500000    200.000000    107.000000      95.000000   \n",
       "max      200.000000    450.000000    296.000000     328.000000   \n",
       "\n",
       "       budget_mark_mean_previous  mark_mean_previous  abit_count_previous  \\\n",
       "count               98586.000000        98586.000000         98586.000000   \n",
       "mean                  183.395106          167.596558           861.810660   \n",
       "std                    10.107032            7.049031           614.298936   \n",
       "min                   143.138235          139.322809            22.000000   \n",
       "25%                   182.149615          163.125365           366.540356   \n",
       "50%                   185.467631          168.508683           651.884314   \n",
       "75%                   190.041667          172.062701          1342.355836   \n",
       "max                   199.278200          182.897357          2241.000000   \n",
       "\n",
       "       mark_max_previous  mark_min_previous  budget_mark_max_previous  \n",
       "count       98586.000000       98586.000000              98586.000000  \n",
       "mean          198.807652         118.373742                195.677287  \n",
       "std             2.641735          10.434078                  5.270061  \n",
       "min           179.300000         101.847000                164.570000  \n",
       "25%           198.900000         110.400000                193.569808  \n",
       "50%           200.000000         116.000000                197.472797  \n",
       "75%           200.000000         125.800000                200.000000  \n",
       "max           200.000000         142.444781                200.000000  "
      ]
     },
     "execution_count": 16,
     "metadata": {},
     "output_type": "execute_result"
    }
   ],
   "source": [
    "test_set.describe()"
   ]
  },
  {
   "cell_type": "code",
   "execution_count": 17,
   "id": "12a4a9c5-07cb-48ef-920e-2bcc3664092b",
   "metadata": {},
   "outputs": [],
   "source": [
    "from sklearn.preprocessing import OneHotEncoder"
   ]
  },
  {
   "cell_type": "code",
   "execution_count": 18,
   "id": "d9078654-ad00-4bc2-bf87-4ee3f16d5063",
   "metadata": {},
   "outputs": [],
   "source": [
    "priority_encoder = OneHotEncoder()\n",
    "priority_encoder.fit(train_set.priority.to_numpy().reshape(-1, 1))\n",
    "priority_cols_names = priority_encoder.get_feature_names_out()\n",
    "for col_i in range(len(priority_cols_names)):\n",
    "    priority_cols_names[col_i] = priority_cols_names[col_i].replace('x0_', 'priority_')\n",
    "train_set[priority_cols_names] = pd.DataFrame(priority_encoder.transform(train_set.priority.to_numpy().reshape(-1, 1)).toarray(), columns = priority_cols_names)\n",
    "test_set[priority_cols_names] = pd.DataFrame(priority_encoder.transform(test_set.priority.to_numpy().reshape(-1, 1)).toarray(), columns = priority_cols_names)"
   ]
  },
  {
   "cell_type": "code",
   "execution_count": 19,
   "id": "1b91692a-53f6-428d-bb65-d5e1bd2e4c00",
   "metadata": {},
   "outputs": [],
   "source": [
    "train_set = train_set.drop('priority', axis = 1)\n",
    "test_set = test_set.drop('priority', axis = 1)"
   ]
  },
  {
   "cell_type": "code",
   "execution_count": 20,
   "id": "3291979b-2a58-42c1-8e3a-0d1ce183bec0",
   "metadata": {},
   "outputs": [],
   "source": [
    "import numpy as np"
   ]
  },
  {
   "cell_type": "code",
   "execution_count": 21,
   "id": "24d72729-3a03-4194-a268-44e66dfc30e2",
   "metadata": {},
   "outputs": [],
   "source": [
    "test_set['kvota'] = test_set.kvota.apply(lambda x : np.nan if x == 'Квота-2' else x)"
   ]
  },
  {
   "cell_type": "code",
   "execution_count": 22,
   "id": "b6b2feeb-f5e4-4df8-9671-373f9906c2d6",
   "metadata": {},
   "outputs": [],
   "source": [
    "kvota_encoder = OneHotEncoder()\n",
    "kvota_encoder.fit(train_set.kvota.to_numpy().reshape(-1, 1))\n",
    "kvota_cols_names = kvota_encoder.get_feature_names_out()\n",
    "for col_i in range(len(kvota_cols_names)):\n",
    "    kvota_cols_names[col_i] = kvota_cols_names[col_i].replace('x0_', 'kvota_')\n",
    "train_set[kvota_cols_names] = pd.DataFrame(kvota_encoder.transform(train_set.kvota.to_numpy().reshape(-1, 1)).toarray(), columns = kvota_cols_names)\n",
    "test_set[kvota_cols_names] = pd.DataFrame(kvota_encoder.transform(test_set.kvota.to_numpy().reshape(-1, 1)).toarray(), columns = kvota_cols_names)"
   ]
  },
  {
   "cell_type": "code",
   "execution_count": 23,
   "id": "2f2be2e4-43f3-476e-a3c4-8d5eb692e76b",
   "metadata": {},
   "outputs": [],
   "source": [
    "train_set = train_set.drop('kvota_nan', axis = 1)\n",
    "test_set = test_set.drop('kvota_nan', axis = 1)"
   ]
  },
  {
   "cell_type": "code",
   "execution_count": 24,
   "id": "96cef8f5-a8fc-4152-adaf-126991f0ad23",
   "metadata": {},
   "outputs": [
    {
     "data": {
      "text/plain": [
       "Index(['specialty', 'university', 'mark', 'kvota', 'placesCount',\n",
       "       'budgetCount', 'contractCount', 'vstup', 'budget_mark_mean_previous',\n",
       "       'mark_mean_previous', 'abit_count_previous', 'mark_max_previous',\n",
       "       'mark_min_previous', 'budget_mark_max_previous', 'priority_1',\n",
       "       'priority_2', 'priority_3', 'priority_4', 'priority_5', 'priority_6',\n",
       "       'priority_7', 'priority_К', 'kvota_Квота-1'],\n",
       "      dtype='object')"
      ]
     },
     "execution_count": 24,
     "metadata": {},
     "output_type": "execute_result"
    }
   ],
   "source": [
    "train_set.columns"
   ]
  },
  {
   "cell_type": "code",
   "execution_count": 25,
   "id": "fac9f3d8-2189-4d33-bacc-664f0c6157b1",
   "metadata": {},
   "outputs": [],
   "source": [
    "train_set['mark_2_budget_mark_max'] = train_set.mark / train_set.budget_mark_mean_previous\n",
    "train_set['mark_2_mark_mean_previous'] = train_set.mark / train_set.mark_mean_previous\n",
    "train_set['mark_2_mark_max_previous'] = train_set.mark / train_set.mark_max_previous\n",
    "train_set['mark_2_mark_min_previous'] = train_set.mark / train_set.mark_min_previous\n",
    "train_set['mark_2_budget_mark_max_previous'] = train_set.mark / train_set.budget_mark_max_previous"
   ]
  },
  {
   "cell_type": "code",
   "execution_count": 26,
   "id": "06451b52-212b-4ad3-ac7f-d486994e4a0b",
   "metadata": {},
   "outputs": [],
   "source": [
    "test_set['mark_2_budget_mark_max'] = test_set.mark / test_set.budget_mark_mean_previous\n",
    "test_set['mark_2_mark_mean_previous'] = test_set.mark / test_set.mark_mean_previous\n",
    "test_set['mark_2_mark_max_previous'] = test_set.mark / test_set.mark_max_previous\n",
    "test_set['mark_2_mark_min_previous'] = test_set.mark / test_set.mark_min_previous\n",
    "test_set['mark_2_budget_mark_max_previous'] = test_set.mark / test_set.budget_mark_max_previous"
   ]
  },
  {
   "cell_type": "code",
   "execution_count": 27,
   "id": "26d99f4e-b343-40c1-8807-cfccf29e3bea",
   "metadata": {},
   "outputs": [
    {
     "data": {
      "text/plain": [
       "Index(['specialty', 'university', 'mark', 'kvota', 'placesCount',\n",
       "       'budgetCount', 'contractCount', 'vstup', 'budget_mark_mean_previous',\n",
       "       'mark_mean_previous', 'abit_count_previous', 'mark_max_previous',\n",
       "       'mark_min_previous', 'budget_mark_max_previous', 'priority_1',\n",
       "       'priority_2', 'priority_3', 'priority_4', 'priority_5', 'priority_6',\n",
       "       'priority_7', 'priority_К', 'kvota_Квота-1', 'mark_2_budget_mark_max',\n",
       "       'mark_2_mark_mean_previous', 'mark_2_mark_max_previous',\n",
       "       'mark_2_mark_min_previous', 'mark_2_budget_mark_max_previous'],\n",
       "      dtype='object')"
      ]
     },
     "execution_count": 27,
     "metadata": {},
     "output_type": "execute_result"
    }
   ],
   "source": [
    "train_set.columns"
   ]
  },
  {
   "cell_type": "code",
   "execution_count": 28,
   "id": "9c2fe35b-09b7-4f52-8c07-4c44abd06126",
   "metadata": {},
   "outputs": [],
   "source": [
    "scaling_columns = ['mark', 'placesCount',\n",
    "       'budgetCount', 'contractCount', 'budget_mark_mean_previous',\n",
    "       'mark_mean_previous', 'abit_count_previous', 'mark_max_previous',\n",
    "       'mark_min_previous', 'budget_mark_max_previous', 'mark_2_budget_mark_max',\n",
    "       'mark_2_mark_mean_previous', 'mark_2_mark_max_previous',\n",
    "       'mark_2_mark_min_previous', 'mark_2_budget_mark_max_previous']"
   ]
  },
  {
   "cell_type": "code",
   "execution_count": 29,
   "id": "4199cda3-f12b-466e-bdd3-e8b19af4e3b7",
   "metadata": {},
   "outputs": [],
   "source": [
    "from sklearn.preprocessing import MinMaxScaler"
   ]
  },
  {
   "cell_type": "code",
   "execution_count": 30,
   "id": "7d69d584-7d9b-450b-acd3-e813a3d305c2",
   "metadata": {},
   "outputs": [],
   "source": [
    "scaler = MinMaxScaler()\n",
    "scaler.fit(train_set[scaling_columns])\n",
    "train_set[scaling_columns] = pd.DataFrame(scaler.transform(train_set[scaling_columns]), columns = scaler.get_feature_names_out())\n",
    "test_set[scaling_columns] = pd.DataFrame(scaler.transform(test_set[scaling_columns]), columns = scaler.get_feature_names_out())"
   ]
  },
  {
   "cell_type": "code",
   "execution_count": 31,
   "id": "09f0646f-3982-4595-a634-87d5890a2561",
   "metadata": {},
   "outputs": [
    {
     "data": {
      "text/html": [
       "<div>\n",
       "<style scoped>\n",
       "    .dataframe tbody tr th:only-of-type {\n",
       "        vertical-align: middle;\n",
       "    }\n",
       "\n",
       "    .dataframe tbody tr th {\n",
       "        vertical-align: top;\n",
       "    }\n",
       "\n",
       "    .dataframe thead th {\n",
       "        text-align: right;\n",
       "    }\n",
       "</style>\n",
       "<table border=\"1\" class=\"dataframe\">\n",
       "  <thead>\n",
       "    <tr style=\"text-align: right;\">\n",
       "      <th></th>\n",
       "      <th>specialty</th>\n",
       "      <th>university</th>\n",
       "      <th>mark</th>\n",
       "      <th>kvota</th>\n",
       "      <th>placesCount</th>\n",
       "      <th>budgetCount</th>\n",
       "      <th>contractCount</th>\n",
       "      <th>vstup</th>\n",
       "      <th>budget_mark_mean_previous</th>\n",
       "      <th>mark_mean_previous</th>\n",
       "      <th>...</th>\n",
       "      <th>priority_5</th>\n",
       "      <th>priority_6</th>\n",
       "      <th>priority_7</th>\n",
       "      <th>priority_К</th>\n",
       "      <th>kvota_Квота-1</th>\n",
       "      <th>mark_2_budget_mark_max</th>\n",
       "      <th>mark_2_mark_mean_previous</th>\n",
       "      <th>mark_2_mark_max_previous</th>\n",
       "      <th>mark_2_mark_min_previous</th>\n",
       "      <th>mark_2_budget_mark_max_previous</th>\n",
       "    </tr>\n",
       "  </thead>\n",
       "  <tbody>\n",
       "    <tr>\n",
       "      <th>0</th>\n",
       "      <td>Інженеріяпрограмногозабезпечення</td>\n",
       "      <td>Національний технічний університет України «Ки...</td>\n",
       "      <td>1.000000</td>\n",
       "      <td>NaN</td>\n",
       "      <td>0.504082</td>\n",
       "      <td>0.612335</td>\n",
       "      <td>5.697296e-08</td>\n",
       "      <td>True</td>\n",
       "      <td>0.900513</td>\n",
       "      <td>0.784367</td>\n",
       "      <td>...</td>\n",
       "      <td>0.0</td>\n",
       "      <td>0.0</td>\n",
       "      <td>0.0</td>\n",
       "      <td>0.0</td>\n",
       "      <td>0.0</td>\n",
       "      <td>0.594502</td>\n",
       "      <td>0.679591</td>\n",
       "      <td>0.771707</td>\n",
       "      <td>0.729964</td>\n",
       "      <td>0.698660</td>\n",
       "    </tr>\n",
       "    <tr>\n",
       "      <th>13</th>\n",
       "      <td>Інженеріяпрограмногозабезпечення</td>\n",
       "      <td>Національний технічний університет України «Ки...</td>\n",
       "      <td>0.979733</td>\n",
       "      <td>NaN</td>\n",
       "      <td>0.504082</td>\n",
       "      <td>0.612335</td>\n",
       "      <td>5.697296e-08</td>\n",
       "      <td>False</td>\n",
       "      <td>0.900513</td>\n",
       "      <td>0.784367</td>\n",
       "      <td>...</td>\n",
       "      <td>0.0</td>\n",
       "      <td>0.0</td>\n",
       "      <td>0.0</td>\n",
       "      <td>0.0</td>\n",
       "      <td>0.0</td>\n",
       "      <td>0.582151</td>\n",
       "      <td>0.665495</td>\n",
       "      <td>0.756067</td>\n",
       "      <td>0.715275</td>\n",
       "      <td>0.684529</td>\n",
       "    </tr>\n",
       "    <tr>\n",
       "      <th>14</th>\n",
       "      <td>Інженеріяпрограмногозабезпечення</td>\n",
       "      <td>Національний технічний університет України «Ки...</td>\n",
       "      <td>0.979213</td>\n",
       "      <td>NaN</td>\n",
       "      <td>0.504082</td>\n",
       "      <td>0.612335</td>\n",
       "      <td>5.697296e-08</td>\n",
       "      <td>False</td>\n",
       "      <td>0.900513</td>\n",
       "      <td>0.784367</td>\n",
       "      <td>...</td>\n",
       "      <td>0.0</td>\n",
       "      <td>0.0</td>\n",
       "      <td>0.0</td>\n",
       "      <td>0.0</td>\n",
       "      <td>0.0</td>\n",
       "      <td>0.581835</td>\n",
       "      <td>0.665134</td>\n",
       "      <td>0.755666</td>\n",
       "      <td>0.714899</td>\n",
       "      <td>0.684167</td>\n",
       "    </tr>\n",
       "    <tr>\n",
       "      <th>19</th>\n",
       "      <td>Інженеріяпрограмногозабезпечення</td>\n",
       "      <td>Національний технічний університет України «Ки...</td>\n",
       "      <td>0.975576</td>\n",
       "      <td>NaN</td>\n",
       "      <td>0.504082</td>\n",
       "      <td>0.612335</td>\n",
       "      <td>5.697296e-08</td>\n",
       "      <td>False</td>\n",
       "      <td>0.900513</td>\n",
       "      <td>0.784367</td>\n",
       "      <td>...</td>\n",
       "      <td>0.0</td>\n",
       "      <td>0.0</td>\n",
       "      <td>0.0</td>\n",
       "      <td>0.0</td>\n",
       "      <td>0.0</td>\n",
       "      <td>0.579618</td>\n",
       "      <td>0.662604</td>\n",
       "      <td>0.752859</td>\n",
       "      <td>0.712262</td>\n",
       "      <td>0.681631</td>\n",
       "    </tr>\n",
       "    <tr>\n",
       "      <th>24</th>\n",
       "      <td>Інженеріяпрограмногозабезпечення</td>\n",
       "      <td>Національний технічний університет України «Ки...</td>\n",
       "      <td>0.973497</td>\n",
       "      <td>NaN</td>\n",
       "      <td>0.504082</td>\n",
       "      <td>0.612335</td>\n",
       "      <td>5.697296e-08</td>\n",
       "      <td>False</td>\n",
       "      <td>0.900513</td>\n",
       "      <td>0.784367</td>\n",
       "      <td>...</td>\n",
       "      <td>0.0</td>\n",
       "      <td>0.0</td>\n",
       "      <td>0.0</td>\n",
       "      <td>0.0</td>\n",
       "      <td>0.0</td>\n",
       "      <td>0.578351</td>\n",
       "      <td>0.661158</td>\n",
       "      <td>0.751255</td>\n",
       "      <td>0.710756</td>\n",
       "      <td>0.680182</td>\n",
       "    </tr>\n",
       "  </tbody>\n",
       "</table>\n",
       "<p>5 rows × 28 columns</p>\n",
       "</div>"
      ],
      "text/plain": [
       "                           specialty  \\\n",
       "0   Інженеріяпрограмногозабезпечення   \n",
       "13  Інженеріяпрограмногозабезпечення   \n",
       "14  Інженеріяпрограмногозабезпечення   \n",
       "19  Інженеріяпрограмногозабезпечення   \n",
       "24  Інженеріяпрограмногозабезпечення   \n",
       "\n",
       "                                           university      mark kvota  \\\n",
       "0   Національний технічний університет України «Ки...  1.000000   NaN   \n",
       "13  Національний технічний університет України «Ки...  0.979733   NaN   \n",
       "14  Національний технічний університет України «Ки...  0.979213   NaN   \n",
       "19  Національний технічний університет України «Ки...  0.975576   NaN   \n",
       "24  Національний технічний університет України «Ки...  0.973497   NaN   \n",
       "\n",
       "    placesCount  budgetCount  contractCount  vstup  budget_mark_mean_previous  \\\n",
       "0      0.504082     0.612335   5.697296e-08   True                   0.900513   \n",
       "13     0.504082     0.612335   5.697296e-08  False                   0.900513   \n",
       "14     0.504082     0.612335   5.697296e-08  False                   0.900513   \n",
       "19     0.504082     0.612335   5.697296e-08  False                   0.900513   \n",
       "24     0.504082     0.612335   5.697296e-08  False                   0.900513   \n",
       "\n",
       "    mark_mean_previous  ...  priority_5  priority_6  priority_7  priority_К  \\\n",
       "0             0.784367  ...         0.0         0.0         0.0         0.0   \n",
       "13            0.784367  ...         0.0         0.0         0.0         0.0   \n",
       "14            0.784367  ...         0.0         0.0         0.0         0.0   \n",
       "19            0.784367  ...         0.0         0.0         0.0         0.0   \n",
       "24            0.784367  ...         0.0         0.0         0.0         0.0   \n",
       "\n",
       "    kvota_Квота-1  mark_2_budget_mark_max  mark_2_mark_mean_previous  \\\n",
       "0             0.0                0.594502                   0.679591   \n",
       "13            0.0                0.582151                   0.665495   \n",
       "14            0.0                0.581835                   0.665134   \n",
       "19            0.0                0.579618                   0.662604   \n",
       "24            0.0                0.578351                   0.661158   \n",
       "\n",
       "    mark_2_mark_max_previous  mark_2_mark_min_previous  \\\n",
       "0                   0.771707                  0.729964   \n",
       "13                  0.756067                  0.715275   \n",
       "14                  0.755666                  0.714899   \n",
       "19                  0.752859                  0.712262   \n",
       "24                  0.751255                  0.710756   \n",
       "\n",
       "    mark_2_budget_mark_max_previous  \n",
       "0                          0.698660  \n",
       "13                         0.684529  \n",
       "14                         0.684167  \n",
       "19                         0.681631  \n",
       "24                         0.680182  \n",
       "\n",
       "[5 rows x 28 columns]"
      ]
     },
     "execution_count": 31,
     "metadata": {},
     "output_type": "execute_result"
    }
   ],
   "source": [
    "train_set.head()"
   ]
  },
  {
   "cell_type": "code",
   "execution_count": 32,
   "id": "46827c3e-2e21-417e-8cfc-53a71fb422fa",
   "metadata": {},
   "outputs": [
    {
     "data": {
      "text/plain": [
       "vstup\n",
       "False    119830\n",
       "True      11329\n",
       "Name: count, dtype: int64"
      ]
     },
     "execution_count": 32,
     "metadata": {},
     "output_type": "execute_result"
    }
   ],
   "source": [
    "train_set.vstup.value_counts()"
   ]
  },
  {
   "cell_type": "code",
   "execution_count": 33,
   "id": "96805954-0b5b-47d7-a3b4-9a2aab230572",
   "metadata": {},
   "outputs": [
    {
     "data": {
      "text/plain": [
       "10.577279548062494"
      ]
     },
     "execution_count": 33,
     "metadata": {},
     "output_type": "execute_result"
    }
   ],
   "source": [
    "119830 / 11329"
   ]
  },
  {
   "cell_type": "code",
   "execution_count": 34,
   "id": "385c0ea6-d878-436a-8521-17d365a00765",
   "metadata": {},
   "outputs": [
    {
     "data": {
      "text/plain": [
       "vstup\n",
       "False    88867\n",
       "True      9719\n",
       "Name: count, dtype: int64"
      ]
     },
     "execution_count": 34,
     "metadata": {},
     "output_type": "execute_result"
    }
   ],
   "source": [
    "test_set.vstup.value_counts()"
   ]
  },
  {
   "cell_type": "code",
   "execution_count": 35,
   "id": "584ff081-7c8a-4a41-a080-106cc4fd2151",
   "metadata": {},
   "outputs": [
    {
     "data": {
      "text/plain": [
       "9.143636176561374"
      ]
     },
     "execution_count": 35,
     "metadata": {},
     "output_type": "execute_result"
    }
   ],
   "source": [
    "88867 / 9719"
   ]
  },
  {
   "cell_type": "code",
   "execution_count": 37,
   "id": "42756580-f2f0-4f50-8a5c-b18a62776a49",
   "metadata": {},
   "outputs": [],
   "source": [
    "from imblearn.over_sampling import RandomOverSampler"
   ]
  },
  {
   "cell_type": "code",
   "execution_count": 38,
   "id": "9a0d6f51-fcfe-4804-a257-74ed50e50278",
   "metadata": {},
   "outputs": [],
   "source": [
    "ros = RandomOverSampler(random_state=0)"
   ]
  },
  {
   "cell_type": "code",
   "execution_count": 39,
   "id": "4ffc7e61-8e75-4d3a-bc22-737b1cfdd202",
   "metadata": {},
   "outputs": [],
   "source": [
    "X_resampled, y_resampled = ros.fit_resample(train_set.drop('vstup', axis = 1), train_set.vstup)"
   ]
  },
  {
   "cell_type": "code",
   "execution_count": 40,
   "id": "9c788d91-7001-47c2-8c23-4919eda28ac9",
   "metadata": {},
   "outputs": [
    {
     "data": {
      "text/html": [
       "<div>\n",
       "<style scoped>\n",
       "    .dataframe tbody tr th:only-of-type {\n",
       "        vertical-align: middle;\n",
       "    }\n",
       "\n",
       "    .dataframe tbody tr th {\n",
       "        vertical-align: top;\n",
       "    }\n",
       "\n",
       "    .dataframe thead th {\n",
       "        text-align: right;\n",
       "    }\n",
       "</style>\n",
       "<table border=\"1\" class=\"dataframe\">\n",
       "  <thead>\n",
       "    <tr style=\"text-align: right;\">\n",
       "      <th></th>\n",
       "      <th>specialty</th>\n",
       "      <th>university</th>\n",
       "      <th>mark</th>\n",
       "      <th>kvota</th>\n",
       "      <th>placesCount</th>\n",
       "      <th>budgetCount</th>\n",
       "      <th>contractCount</th>\n",
       "      <th>budget_mark_mean_previous</th>\n",
       "      <th>mark_mean_previous</th>\n",
       "      <th>abit_count_previous</th>\n",
       "      <th>...</th>\n",
       "      <th>priority_5</th>\n",
       "      <th>priority_6</th>\n",
       "      <th>priority_7</th>\n",
       "      <th>priority_К</th>\n",
       "      <th>kvota_Квота-1</th>\n",
       "      <th>mark_2_budget_mark_max</th>\n",
       "      <th>mark_2_mark_mean_previous</th>\n",
       "      <th>mark_2_mark_max_previous</th>\n",
       "      <th>mark_2_mark_min_previous</th>\n",
       "      <th>mark_2_budget_mark_max_previous</th>\n",
       "    </tr>\n",
       "  </thead>\n",
       "  <tbody>\n",
       "    <tr>\n",
       "      <th>0</th>\n",
       "      <td>Інженеріяпрограмногозабезпечення</td>\n",
       "      <td>Національний технічний університет України «Ки...</td>\n",
       "      <td>1.000000</td>\n",
       "      <td>NaN</td>\n",
       "      <td>0.504082</td>\n",
       "      <td>0.612335</td>\n",
       "      <td>5.697296e-08</td>\n",
       "      <td>0.900513</td>\n",
       "      <td>0.784367</td>\n",
       "      <td>0.773841</td>\n",
       "      <td>...</td>\n",
       "      <td>0.0</td>\n",
       "      <td>0.0</td>\n",
       "      <td>0.0</td>\n",
       "      <td>0.0</td>\n",
       "      <td>0.0</td>\n",
       "      <td>0.594502</td>\n",
       "      <td>0.679591</td>\n",
       "      <td>0.771707</td>\n",
       "      <td>0.729964</td>\n",
       "      <td>0.698660</td>\n",
       "    </tr>\n",
       "    <tr>\n",
       "      <th>1</th>\n",
       "      <td>Інженеріяпрограмногозабезпечення</td>\n",
       "      <td>Національний технічний університет України «Ки...</td>\n",
       "      <td>0.979733</td>\n",
       "      <td>NaN</td>\n",
       "      <td>0.504082</td>\n",
       "      <td>0.612335</td>\n",
       "      <td>5.697296e-08</td>\n",
       "      <td>0.900513</td>\n",
       "      <td>0.784367</td>\n",
       "      <td>0.773841</td>\n",
       "      <td>...</td>\n",
       "      <td>0.0</td>\n",
       "      <td>0.0</td>\n",
       "      <td>0.0</td>\n",
       "      <td>0.0</td>\n",
       "      <td>0.0</td>\n",
       "      <td>0.582151</td>\n",
       "      <td>0.665495</td>\n",
       "      <td>0.756067</td>\n",
       "      <td>0.715275</td>\n",
       "      <td>0.684529</td>\n",
       "    </tr>\n",
       "    <tr>\n",
       "      <th>2</th>\n",
       "      <td>Інженеріяпрограмногозабезпечення</td>\n",
       "      <td>Національний технічний університет України «Ки...</td>\n",
       "      <td>0.979213</td>\n",
       "      <td>NaN</td>\n",
       "      <td>0.504082</td>\n",
       "      <td>0.612335</td>\n",
       "      <td>5.697296e-08</td>\n",
       "      <td>0.900513</td>\n",
       "      <td>0.784367</td>\n",
       "      <td>0.773841</td>\n",
       "      <td>...</td>\n",
       "      <td>0.0</td>\n",
       "      <td>0.0</td>\n",
       "      <td>0.0</td>\n",
       "      <td>0.0</td>\n",
       "      <td>0.0</td>\n",
       "      <td>0.581835</td>\n",
       "      <td>0.665134</td>\n",
       "      <td>0.755666</td>\n",
       "      <td>0.714899</td>\n",
       "      <td>0.684167</td>\n",
       "    </tr>\n",
       "    <tr>\n",
       "      <th>3</th>\n",
       "      <td>Інженеріяпрограмногозабезпечення</td>\n",
       "      <td>Національний технічний університет України «Ки...</td>\n",
       "      <td>0.975576</td>\n",
       "      <td>NaN</td>\n",
       "      <td>0.504082</td>\n",
       "      <td>0.612335</td>\n",
       "      <td>5.697296e-08</td>\n",
       "      <td>0.900513</td>\n",
       "      <td>0.784367</td>\n",
       "      <td>0.773841</td>\n",
       "      <td>...</td>\n",
       "      <td>0.0</td>\n",
       "      <td>0.0</td>\n",
       "      <td>0.0</td>\n",
       "      <td>0.0</td>\n",
       "      <td>0.0</td>\n",
       "      <td>0.579618</td>\n",
       "      <td>0.662604</td>\n",
       "      <td>0.752859</td>\n",
       "      <td>0.712262</td>\n",
       "      <td>0.681631</td>\n",
       "    </tr>\n",
       "    <tr>\n",
       "      <th>4</th>\n",
       "      <td>Інженеріяпрограмногозабезпечення</td>\n",
       "      <td>Національний технічний університет України «Ки...</td>\n",
       "      <td>0.973497</td>\n",
       "      <td>NaN</td>\n",
       "      <td>0.504082</td>\n",
       "      <td>0.612335</td>\n",
       "      <td>5.697296e-08</td>\n",
       "      <td>0.900513</td>\n",
       "      <td>0.784367</td>\n",
       "      <td>0.773841</td>\n",
       "      <td>...</td>\n",
       "      <td>0.0</td>\n",
       "      <td>0.0</td>\n",
       "      <td>0.0</td>\n",
       "      <td>0.0</td>\n",
       "      <td>0.0</td>\n",
       "      <td>0.578351</td>\n",
       "      <td>0.661158</td>\n",
       "      <td>0.751255</td>\n",
       "      <td>0.710756</td>\n",
       "      <td>0.680182</td>\n",
       "    </tr>\n",
       "    <tr>\n",
       "      <th>...</th>\n",
       "      <td>...</td>\n",
       "      <td>...</td>\n",
       "      <td>...</td>\n",
       "      <td>...</td>\n",
       "      <td>...</td>\n",
       "      <td>...</td>\n",
       "      <td>...</td>\n",
       "      <td>...</td>\n",
       "      <td>...</td>\n",
       "      <td>...</td>\n",
       "      <td>...</td>\n",
       "      <td>...</td>\n",
       "      <td>...</td>\n",
       "      <td>...</td>\n",
       "      <td>...</td>\n",
       "      <td>...</td>\n",
       "      <td>...</td>\n",
       "      <td>...</td>\n",
       "      <td>...</td>\n",
       "      <td>...</td>\n",
       "      <td>...</td>\n",
       "    </tr>\n",
       "    <tr>\n",
       "      <th>239655</th>\n",
       "      <td>Право</td>\n",
       "      <td>Львівський національний університет імені Іван...</td>\n",
       "      <td>0.873014</td>\n",
       "      <td>NaN</td>\n",
       "      <td>0.387755</td>\n",
       "      <td>0.105727</td>\n",
       "      <td>8.570715e-08</td>\n",
       "      <td>0.760029</td>\n",
       "      <td>0.519225</td>\n",
       "      <td>0.419148</td>\n",
       "      <td>...</td>\n",
       "      <td>0.0</td>\n",
       "      <td>1.0</td>\n",
       "      <td>0.0</td>\n",
       "      <td>0.0</td>\n",
       "      <td>0.0</td>\n",
       "      <td>0.574903</td>\n",
       "      <td>0.682267</td>\n",
       "      <td>0.673711</td>\n",
       "      <td>0.633287</td>\n",
       "      <td>0.656546</td>\n",
       "    </tr>\n",
       "    <tr>\n",
       "      <th>239656</th>\n",
       "      <td>Інженеріяпрограмногозабезпечення</td>\n",
       "      <td>Національний технічний університет України «Ки...</td>\n",
       "      <td>0.426805</td>\n",
       "      <td>NaN</td>\n",
       "      <td>0.142857</td>\n",
       "      <td>0.246696</td>\n",
       "      <td>1.040376e-08</td>\n",
       "      <td>0.900513</td>\n",
       "      <td>0.784367</td>\n",
       "      <td>0.773841</td>\n",
       "      <td>...</td>\n",
       "      <td>0.0</td>\n",
       "      <td>0.0</td>\n",
       "      <td>0.0</td>\n",
       "      <td>1.0</td>\n",
       "      <td>0.0</td>\n",
       "      <td>0.245214</td>\n",
       "      <td>0.280933</td>\n",
       "      <td>0.329368</td>\n",
       "      <td>0.314550</td>\n",
       "      <td>0.299032</td>\n",
       "    </tr>\n",
       "    <tr>\n",
       "      <th>239657</th>\n",
       "      <td>Прикладнамеханіка</td>\n",
       "      <td>Національний технічний університет України «Ки...</td>\n",
       "      <td>0.706990</td>\n",
       "      <td>NaN</td>\n",
       "      <td>0.040816</td>\n",
       "      <td>0.048458</td>\n",
       "      <td>9.999694e-01</td>\n",
       "      <td>0.660153</td>\n",
       "      <td>0.248464</td>\n",
       "      <td>0.120995</td>\n",
       "      <td>...</td>\n",
       "      <td>0.0</td>\n",
       "      <td>1.0</td>\n",
       "      <td>0.0</td>\n",
       "      <td>0.0</td>\n",
       "      <td>0.0</td>\n",
       "      <td>0.509640</td>\n",
       "      <td>0.656441</td>\n",
       "      <td>0.548960</td>\n",
       "      <td>0.608814</td>\n",
       "      <td>0.555837</td>\n",
       "    </tr>\n",
       "    <tr>\n",
       "      <th>239658</th>\n",
       "      <td>Біологія</td>\n",
       "      <td>Львівський національний університет імені Іван...</td>\n",
       "      <td>0.832729</td>\n",
       "      <td>NaN</td>\n",
       "      <td>0.173469</td>\n",
       "      <td>0.409692</td>\n",
       "      <td>9.999710e-01</td>\n",
       "      <td>0.749100</td>\n",
       "      <td>0.535552</td>\n",
       "      <td>0.369393</td>\n",
       "      <td>...</td>\n",
       "      <td>0.0</td>\n",
       "      <td>0.0</td>\n",
       "      <td>0.0</td>\n",
       "      <td>0.0</td>\n",
       "      <td>0.0</td>\n",
       "      <td>0.553796</td>\n",
       "      <td>0.646539</td>\n",
       "      <td>0.642623</td>\n",
       "      <td>0.650678</td>\n",
       "      <td>0.572385</td>\n",
       "    </tr>\n",
       "    <tr>\n",
       "      <th>239659</th>\n",
       "      <td>Електроніка</td>\n",
       "      <td>Національний технічний університет України «Ки...</td>\n",
       "      <td>0.914358</td>\n",
       "      <td>NaN</td>\n",
       "      <td>0.132653</td>\n",
       "      <td>0.321586</td>\n",
       "      <td>9.999705e-01</td>\n",
       "      <td>0.782293</td>\n",
       "      <td>0.671605</td>\n",
       "      <td>0.461383</td>\n",
       "      <td>...</td>\n",
       "      <td>0.0</td>\n",
       "      <td>0.0</td>\n",
       "      <td>0.0</td>\n",
       "      <td>0.0</td>\n",
       "      <td>0.0</td>\n",
       "      <td>0.591591</td>\n",
       "      <td>0.658080</td>\n",
       "      <td>0.705617</td>\n",
       "      <td>0.845425</td>\n",
       "      <td>0.647651</td>\n",
       "    </tr>\n",
       "  </tbody>\n",
       "</table>\n",
       "<p>239660 rows × 27 columns</p>\n",
       "</div>"
      ],
      "text/plain": [
       "                               specialty  \\\n",
       "0       Інженеріяпрограмногозабезпечення   \n",
       "1       Інженеріяпрограмногозабезпечення   \n",
       "2       Інженеріяпрограмногозабезпечення   \n",
       "3       Інженеріяпрограмногозабезпечення   \n",
       "4       Інженеріяпрограмногозабезпечення   \n",
       "...                                  ...   \n",
       "239655                             Право   \n",
       "239656  Інженеріяпрограмногозабезпечення   \n",
       "239657                 Прикладнамеханіка   \n",
       "239658                          Біологія   \n",
       "239659                       Електроніка   \n",
       "\n",
       "                                               university      mark kvota  \\\n",
       "0       Національний технічний університет України «Ки...  1.000000   NaN   \n",
       "1       Національний технічний університет України «Ки...  0.979733   NaN   \n",
       "2       Національний технічний університет України «Ки...  0.979213   NaN   \n",
       "3       Національний технічний університет України «Ки...  0.975576   NaN   \n",
       "4       Національний технічний університет України «Ки...  0.973497   NaN   \n",
       "...                                                   ...       ...   ...   \n",
       "239655  Львівський національний університет імені Іван...  0.873014   NaN   \n",
       "239656  Національний технічний університет України «Ки...  0.426805   NaN   \n",
       "239657  Національний технічний університет України «Ки...  0.706990   NaN   \n",
       "239658  Львівський національний університет імені Іван...  0.832729   NaN   \n",
       "239659  Національний технічний університет України «Ки...  0.914358   NaN   \n",
       "\n",
       "        placesCount  budgetCount  contractCount  budget_mark_mean_previous  \\\n",
       "0          0.504082     0.612335   5.697296e-08                   0.900513   \n",
       "1          0.504082     0.612335   5.697296e-08                   0.900513   \n",
       "2          0.504082     0.612335   5.697296e-08                   0.900513   \n",
       "3          0.504082     0.612335   5.697296e-08                   0.900513   \n",
       "4          0.504082     0.612335   5.697296e-08                   0.900513   \n",
       "...             ...          ...            ...                        ...   \n",
       "239655     0.387755     0.105727   8.570715e-08                   0.760029   \n",
       "239656     0.142857     0.246696   1.040376e-08                   0.900513   \n",
       "239657     0.040816     0.048458   9.999694e-01                   0.660153   \n",
       "239658     0.173469     0.409692   9.999710e-01                   0.749100   \n",
       "239659     0.132653     0.321586   9.999705e-01                   0.782293   \n",
       "\n",
       "        mark_mean_previous  abit_count_previous  ...  priority_5  priority_6  \\\n",
       "0                 0.784367             0.773841  ...         0.0         0.0   \n",
       "1                 0.784367             0.773841  ...         0.0         0.0   \n",
       "2                 0.784367             0.773841  ...         0.0         0.0   \n",
       "3                 0.784367             0.773841  ...         0.0         0.0   \n",
       "4                 0.784367             0.773841  ...         0.0         0.0   \n",
       "...                    ...                  ...  ...         ...         ...   \n",
       "239655            0.519225             0.419148  ...         0.0         1.0   \n",
       "239656            0.784367             0.773841  ...         0.0         0.0   \n",
       "239657            0.248464             0.120995  ...         0.0         1.0   \n",
       "239658            0.535552             0.369393  ...         0.0         0.0   \n",
       "239659            0.671605             0.461383  ...         0.0         0.0   \n",
       "\n",
       "        priority_7  priority_К  kvota_Квота-1  mark_2_budget_mark_max  \\\n",
       "0              0.0         0.0            0.0                0.594502   \n",
       "1              0.0         0.0            0.0                0.582151   \n",
       "2              0.0         0.0            0.0                0.581835   \n",
       "3              0.0         0.0            0.0                0.579618   \n",
       "4              0.0         0.0            0.0                0.578351   \n",
       "...            ...         ...            ...                     ...   \n",
       "239655         0.0         0.0            0.0                0.574903   \n",
       "239656         0.0         1.0            0.0                0.245214   \n",
       "239657         0.0         0.0            0.0                0.509640   \n",
       "239658         0.0         0.0            0.0                0.553796   \n",
       "239659         0.0         0.0            0.0                0.591591   \n",
       "\n",
       "        mark_2_mark_mean_previous  mark_2_mark_max_previous  \\\n",
       "0                        0.679591                  0.771707   \n",
       "1                        0.665495                  0.756067   \n",
       "2                        0.665134                  0.755666   \n",
       "3                        0.662604                  0.752859   \n",
       "4                        0.661158                  0.751255   \n",
       "...                           ...                       ...   \n",
       "239655                   0.682267                  0.673711   \n",
       "239656                   0.280933                  0.329368   \n",
       "239657                   0.656441                  0.548960   \n",
       "239658                   0.646539                  0.642623   \n",
       "239659                   0.658080                  0.705617   \n",
       "\n",
       "        mark_2_mark_min_previous  mark_2_budget_mark_max_previous  \n",
       "0                       0.729964                         0.698660  \n",
       "1                       0.715275                         0.684529  \n",
       "2                       0.714899                         0.684167  \n",
       "3                       0.712262                         0.681631  \n",
       "4                       0.710756                         0.680182  \n",
       "...                          ...                              ...  \n",
       "239655                  0.633287                         0.656546  \n",
       "239656                  0.314550                         0.299032  \n",
       "239657                  0.608814                         0.555837  \n",
       "239658                  0.650678                         0.572385  \n",
       "239659                  0.845425                         0.647651  \n",
       "\n",
       "[239660 rows x 27 columns]"
      ]
     },
     "execution_count": 40,
     "metadata": {},
     "output_type": "execute_result"
    }
   ],
   "source": [
    "X_resampled"
   ]
  },
  {
   "cell_type": "code",
   "execution_count": 41,
   "id": "2207fbe9-e4ff-4a1d-b637-b7cd8584f80d",
   "metadata": {},
   "outputs": [
    {
     "data": {
      "text/plain": [
       "0          True\n",
       "1         False\n",
       "2         False\n",
       "3         False\n",
       "4         False\n",
       "          ...  \n",
       "239655     True\n",
       "239656     True\n",
       "239657     True\n",
       "239658     True\n",
       "239659     True\n",
       "Name: vstup, Length: 239660, dtype: bool"
      ]
     },
     "execution_count": 41,
     "metadata": {},
     "output_type": "execute_result"
    }
   ],
   "source": [
    "y_resampled"
   ]
  },
  {
   "cell_type": "code",
   "execution_count": 42,
   "id": "ac1aa013-9a1d-41ad-b445-b9671e49cbe5",
   "metadata": {},
   "outputs": [],
   "source": [
    "train_set = X_resampled.copy()"
   ]
  },
  {
   "cell_type": "code",
   "execution_count": 43,
   "id": "82bfcf1b-c3cd-4fcb-b3c2-64c7956b9ab8",
   "metadata": {},
   "outputs": [],
   "source": [
    "train_set['vstup'] = y_resampled"
   ]
  },
  {
   "cell_type": "code",
   "execution_count": 44,
   "id": "b0b711af-7c53-40b1-b6d7-661b5e54e926",
   "metadata": {},
   "outputs": [
    {
     "data": {
      "text/plain": [
       "array([ True, False])"
      ]
     },
     "execution_count": 44,
     "metadata": {},
     "output_type": "execute_result"
    }
   ],
   "source": [
    "train_set.vstup.unique()"
   ]
  },
  {
   "cell_type": "code",
   "execution_count": 46,
   "id": "0d6c3a3a-5526-4e10-a926-d24186c5315f",
   "metadata": {},
   "outputs": [],
   "source": [
    "train_set['vstup'] = train_set.vstup.apply(lambda x : 1 if x else 0)"
   ]
  },
  {
   "cell_type": "code",
   "execution_count": 47,
   "id": "a97b153f-b23a-4b79-b541-9ad5777f8f41",
   "metadata": {},
   "outputs": [
    {
     "data": {
      "text/plain": [
       "array([False,  True])"
      ]
     },
     "execution_count": 47,
     "metadata": {},
     "output_type": "execute_result"
    }
   ],
   "source": [
    "test_set.vstup.unique()"
   ]
  },
  {
   "cell_type": "code",
   "execution_count": 48,
   "id": "ef6f9da5-7093-4be4-aac9-2321e7c2737e",
   "metadata": {},
   "outputs": [],
   "source": [
    "test_set['vstup'] = test_set.vstup.apply(lambda x : 1 if x else 0)"
   ]
  },
  {
   "cell_type": "code",
   "execution_count": 49,
   "id": "bd97f765-9d7d-4cc1-9910-7397c451aed2",
   "metadata": {},
   "outputs": [
    {
     "data": {
      "text/plain": [
       "vstup\n",
       "1    119830\n",
       "0    119830\n",
       "Name: count, dtype: int64"
      ]
     },
     "execution_count": 49,
     "metadata": {},
     "output_type": "execute_result"
    }
   ],
   "source": [
    "train_set.vstup.value_counts()"
   ]
  },
  {
   "cell_type": "code",
   "execution_count": 50,
   "id": "012ee96a-afc9-4762-85bc-e7aca90f252a",
   "metadata": {},
   "outputs": [
    {
     "data": {
      "text/plain": [
       "vstup\n",
       "0    88867\n",
       "1     9719\n",
       "Name: count, dtype: int64"
      ]
     },
     "execution_count": 50,
     "metadata": {},
     "output_type": "execute_result"
    }
   ],
   "source": [
    "test_set.vstup.value_counts()"
   ]
  },
  {
   "cell_type": "code",
   "execution_count": 51,
   "id": "e4a5ce7b-ba0d-4ef8-8c13-0a475354cb3a",
   "metadata": {},
   "outputs": [],
   "source": [
    "train_set.to_csv('train_set.csv', index = False)\n",
    "test_set.to_csv('test_set.csv', index = False)"
   ]
  },
  {
   "cell_type": "code",
   "execution_count": null,
   "id": "9108fe4f-d2aa-4c0f-af1e-97e7afeda54f",
   "metadata": {},
   "outputs": [],
   "source": []
  }
 ],
 "metadata": {
  "kernelspec": {
   "display_name": "Python 3 (ipykernel)",
   "language": "python",
   "name": "python3"
  },
  "language_info": {
   "codemirror_mode": {
    "name": "ipython",
    "version": 3
   },
   "file_extension": ".py",
   "mimetype": "text/x-python",
   "name": "python",
   "nbconvert_exporter": "python",
   "pygments_lexer": "ipython3",
   "version": "3.11.6"
  }
 },
 "nbformat": 4,
 "nbformat_minor": 5
}
